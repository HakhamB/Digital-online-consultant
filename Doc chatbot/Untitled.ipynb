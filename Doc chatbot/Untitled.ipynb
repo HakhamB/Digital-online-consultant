{
 "cells": [
  {
   "cell_type": "code",
   "execution_count": 1,
   "id": "928d63e0-e7ba-4430-8066-0379a608aeda",
   "metadata": {},
   "outputs": [],
   "source": [
    "#importing necessary libraries\n",
    "import pandas as pd\n",
    "import requests\n",
    "import xml.etree.ElementTree as ET\n",
    "#from typing import List, Dict"
   ]
  },
  {
   "cell_type": "code",
   "execution_count": 18,
   "id": "b7255f2e-d655-46bf-9274-1358ae7bcd48",
   "metadata": {},
   "outputs": [
    {
     "ename": "SyntaxError",
     "evalue": "expected 'except' or 'finally' block (3029778265.py, line 38)",
     "output_type": "error",
     "traceback": [
      "\u001b[1;36m  Cell \u001b[1;32mIn[18], line 38\u001b[1;36m\u001b[0m\n\u001b[1;33m    def all_data(self):\u001b[0m\n\u001b[1;37m    ^\u001b[0m\n\u001b[1;31mSyntaxError\u001b[0m\u001b[1;31m:\u001b[0m expected 'except' or 'finally' block\n"
     ]
    }
   ],
   "source": [
    "#requesting data \n",
    "class medicaldata:\n",
    "     def __init__(self):\n",
    "        self.urls = {'general_health': 'https://medlineplus.gov/xml/generalhealthdefinitions.xml',\n",
    "            'fitness': 'https://medlineplus.gov/xml/fitnessdefinitions.xml',\n",
    "            'minerals': 'https://medlineplus.gov/xml/mineralsdefinitions.xml',\n",
    "            'vitamins': 'https://medlineplus.gov/xml/vitaminsdefinitions.xml',\n",
    "            'nutrition': 'https://medlineplus.gov/xml/nutritiondefinitions.xml'\n",
    "        }\n",
    "\n",
    "     def fetch_xmldata(self, url):\n",
    "         try:\n",
    "             #headers = {'User-Agent': 'Mozilla/5.0 (Windows NT 10.0; Win64; x64) AppleWebKit/537.36 (KHTML, like Gecko) Chrome/91.0.4472.124 Safari/537.36'}\n",
    "             response = requests.get(url)\n",
    "             root = ET.fromstring(response.text)# fetching and parsing data \n",
    "             data = []\n",
    "             for element in root.findall('term-group'):\n",
    "                 row = {}\n",
    "                 for child in element:\n",
    "                     row[child.tag] = child.text\n",
    "                 data.append(row)\n",
    "             return data\n",
    "             \n",
    "         #         data.append({'title': item.find('title').text or '', 'description': item.find('description').text or ''})\n",
    "         #     return pd.DataFrame(data)\n",
    "         # except Exception as e:\n",
    "         #     print (f\"error{url}: {e}\")\n",
    "         #     return pd.DataFrame()\n",
    "             \n",
    "        # response = requests.get(url)\n",
    "        # root = ET.fromstring(response.text)# fetching and parsing data \n",
    "        # data = []\n",
    "        # for item in root.findall('.//item'):\n",
    "        #     data.append({'title': item.find('title').text or '', 'description': item.find('description').text or ''})\n",
    "        # return pd.DataFrame(data)\n",
    "        \n",
    "\n",
    "     def all_data(self):\n",
    "         All = []\n",
    "         for category, url in self.urls.items():\n",
    "             df = self.fetch_xmldata(url)\n",
    "             df['category'] = category\n",
    "             All.append(df)\n",
    "\n",
    "         return pd.concat(All, ignore_index = True)"
   ]
  },
  {
   "cell_type": "code",
   "execution_count": 15,
   "id": "138d0987-6708-47d1-8a0f-2e47f344cfb6",
   "metadata": {},
   "outputs": [
    {
     "name": "stdout",
     "output_type": "stream",
     "text": [
      "errorhttps://medlineplus.gov/xml/generalhealthdefinitions.xml: 'NoneType' object has no attribute 'text'\n",
      "errorhttps://medlineplus.gov/xml/fitnessdefinitions.xml: 'NoneType' object has no attribute 'text'\n",
      "errorhttps://medlineplus.gov/xml/mineralsdefinitions.xml: 'NoneType' object has no attribute 'text'\n",
      "errorhttps://medlineplus.gov/xml/vitaminsdefinitions.xml: 'NoneType' object has no attribute 'text'\n",
      "errorhttps://medlineplus.gov/xml/nutritiondefinitions.xml: 'NoneType' object has no attribute 'text'\n",
      "\n",
      " Entries: 0\n",
      "\n",
      " Sample data:\n",
      "Empty DataFrame\n",
      "Columns: [category]\n",
      "Index: []\n"
     ]
    }
   ],
   "source": [
    "if __name__ == \"__main__\":\n",
    "    fetcher = medicaldata()\n",
    "    meaning_df = fetcher.all_data()\n",
    "    \n",
    "    meaning_df.to_csv('MedicalTerms Data.csv', index = False)\n",
    "    print(f\"\\n Entries: {len(meaning_df)}\")\n",
    "    print(\"\\n Sample data:\")\n",
    "    print(meaning_df.head())   "
   ]
  },
  {
   "cell_type": "code",
   "execution_count": null,
   "id": "e02eb79f-e59a-440b-8bef-437c4a735be5",
   "metadata": {},
   "outputs": [],
   "source": [
    "meaning_"
   ]
  }
 ],
 "metadata": {
  "kernelspec": {
   "display_name": "Python (MlearninngVS)",
   "language": "python",
   "name": "mlearninng"
  },
  "language_info": {
   "codemirror_mode": {
    "name": "ipython",
    "version": 3
   },
   "file_extension": ".py",
   "mimetype": "text/x-python",
   "name": "python",
   "nbconvert_exporter": "python",
   "pygments_lexer": "ipython3",
   "version": "3.12.8"
  },
  "widgets": {
   "application/vnd.jupyter.widget-state+json": {
    "state": {},
    "version_major": 2,
    "version_minor": 0
   }
  }
 },
 "nbformat": 4,
 "nbformat_minor": 5
}
