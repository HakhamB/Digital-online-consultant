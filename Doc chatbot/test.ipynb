{
 "cells": [
  {
   "cell_type": "code",
   "execution_count": null,
   "metadata": {},
   "outputs": [],
   "source": [
    "import requests\n",
    "import xml.etree.ElementTree as ET\n",
    "import pandas as pd\n",
    "\n",
    "# List of URLs to request data from\n",
    "urls = [\n",
    "    'https://medlineplus.gov/xml/generalhealthdefinitions.xml',\n",
    "    'https://medlineplus.gov/xml/fitnessdefinitions.xml',\n",
    "    'https://medlineplus.gov/xml/mineralsdefinitions.xml',\n",
    "    'https://medlineplus.gov/xml/nutritiondefinitions.xml',\n",
    "    'https://medlineplus.gov/xml/vitaminsdefinitions.xml'\n",
    "]\n",
    "\n",
    "# Function to request data from a URL\n",
    "def request_data(urls):\n",
    "    try:\n",
    "        response = requests.get(urls)\n",
    "        response.raise_for_status()  # Check for HTTP errors\n",
    "        with open('generalhealthdefinitions.xml', 'wb') as file:\n",
    "            file.write(response.content)\n",
    "        return response.text  # Return the content of the response\n",
    "    except requests.exceptions.RequestException as e:\n",
    "        print(f\"Error requesting data from {urls}: {e}\")\n",
    "        return None\n",
    "\n",
    "# Request data from all URLs and store the responses\n",
    "data_list = [request_data(url) for url in urls]\n",
    "\n",
    "# Process the responses (e.g., print the content)\n",
    "#for i, data in enumerate(data_list):\n",
    "    #if data:\n",
    "        #print(f\"Data from URL {i+1}:\")\n",
    "        #print(data)\n",
    "        #print(\"\\n\")\n"
   ]
  },
  {
   "cell_type": "code",
   "execution_count": 12,
   "metadata": {},
   "outputs": [],
   "source": [
    "# parsing the data\n",
    "tree = ET.parse('generalhealthdefinitions.xml')\n",
    "root = tree.getroot()"
   ]
  },
  {
   "cell_type": "code",
   "execution_count": 13,
   "metadata": {},
   "outputs": [],
   "source": [
    "# Function to display XML content \n",
    "def display_xml(element, indent=''): \n",
    "    print(indent + element.tag + ': ' + (element.text or '').strip()) \n",
    "    for child in element: \n",
    "        display_xml(child, indent + ' ')"
   ]
  },
  {
   "cell_type": "code",
   "execution_count": 14,
   "metadata": {},
   "outputs": [
    {
     "name": "stdout",
     "output_type": "stream",
     "text": [
      "definition-page: \n",
      " term-group: \n",
      "  term: >Basal Body Temperature\n",
      "  definition: >Basal body temperature is your temperature at rest when you wake up in the morning. This temperature rises slightly around the time of ovulation. Keeping track of this temperature and other changes such as cervical mucus may help you figure out when you are ovulating. Take your temperature before you get out of bed every morning. Since the change during ovulation is only about 1/2 degree F (1/3 degree C), you should use a sensitive thermometer such as a basal body thermometer.\n",
      " term-group: \n",
      "  term: >Blood Alcohol Content\n",
      "  definition: >Blood alcohol content, or blood alcohol concentration (BAC), is the amount of alcohol in a given volume of blood.  For medical and legal purposes, BAC is expressed as grams of alcohol in a 100 milliliter sample of blood.\n",
      " term-group: \n",
      "  term: >Blood  Pressure\n",
      "  definition: >Blood pressure is the force of blood pushing against the walls of the arteries as your heart pumps blood.  It includes two measurements. \"Systolic\" is your blood pressure when your heart beats while pumping blood. \"Diastolic\" is your blood pressure when the heart is at rest between beats. You usually see blood pressure numbers written with the systolic number above or before the diastolic number. For example, you might see 120/80.\n",
      " term-group: \n",
      "  term: >Blood Type\n",
      "  definition: >There are four major blood types: A, B, O, and AB. The types are based on substances on the surface of the blood cells.  Besides blood types, there is the Rh factor.  It is a protein on red blood cells. Most people are Rh-positive; they have Rh factor. Rh-negative people don't have it.  Rh factor is inherited though genes.\n",
      " term-group: \n",
      "  term: >Body Mass Index\n",
      "  definition: >Body Mass Index (BMI) is an estimate of your body fat.  It is calculated from your height and weight.  It can tell you whether you are underweight, normal, overweight, or obese. It can help you gauge your risk for diseases that can occur with more body fat.\n",
      " term-group: \n",
      "  term: >Body Temperature\n",
      "  definition: >Body temperature is a measure of your body’s level of heat.\n",
      " term-group: \n",
      "  term: >Cervical Mucus\n",
      "  definition: >Cervical mucus comes from the cervix. It collects in the vagina. Tracking the changes in your mucus during your cycle, along with changes in your basal body temperature, may help you figure out when you are ovulating.\n",
      " term-group: \n",
      "  term: >Galvanic Skin  Response\n",
      "  definition: >Galvanic skin response is a change in electrical resistance of the skin.  It can occur in response to emotional arousal or other conditions.\n",
      " term-group: \n",
      "  term: >Heart Rate\n",
      "  definition: >Heart rate, or pulse, is how many times your heart beats in a period of time — usually a minute. The usual pulse for an adult is 60 to 100 beats per minute after resting for at least 10 minutes.\n",
      " term-group: \n",
      "  term: >Height\n",
      "  definition: >Your height is the distance from the bottom of your feet to the top of your head when you are standing up straight.\n",
      " term-group: \n",
      "  term: >Inhaler Usage\n",
      "  definition: >An inhaler is a device that sprays medicine through your mouth to your lungs.\n",
      " term-group: \n",
      "  term: >Menstruation\n",
      "  definition: >Menstruation, or period, is normal vaginal bleeding that happens as part of a woman's monthly cycle. Keeping track of your cycles helps you figure out when the next one will come, whether you missed one, and if there is a problem with your cycles.\n",
      " term-group: \n",
      "  term: >Ovulation Test\n",
      "  definition: >Ovulation is the release of an egg from a woman's ovary. Ovulation tests detect a rise in a hormone level that happens just before ovulation. This can help you figure out when you will ovulate, and when you are most likely to get pregnant.\n",
      " term-group: \n",
      "  term: >Respiratory Rate\n",
      "  definition: >Respiratory rate is your rate of breathing (inhalation and exhalation) within a certain time. It is usually stated as breaths per minute.\n",
      " term-group: \n",
      "  term: >Sexual Activity\n",
      "  definition: >Sexuality is part of being human and plays a role in healthy relationships. Keeping track of your sexual activity can help you watch for sexual problems and fertility problems. It can also help you learn about your risk for sexually transmitted diseases.\n",
      " term-group: \n",
      "  term: >Spotting\n",
      "  definition: >Spotting is light vaginal bleeding that is not your period. It could be between periods, after menopause, or during pregnancy. There can be many different causes; some are serious and some are not. Contact your health care provider if you have spotting; call right away if you are pregnant.\n",
      " term-group: \n",
      "  term: >UV Exposure\n",
      "  definition: >Ultraviolet (UV) rays are an invisible form of radiation from sunlight. They can help your body form vitamin D naturally. But they can pass through your skin and damage your skin cells, causing sunburn. UV rays can also cause eye problems, wrinkles, skin spots, and skin cancer.\n",
      " term-group: \n",
      "  term: >Weight (Body Mass)\n",
      "  definition: >Your weight is the mass or quantity of your heaviness.  It is expressed by units of pounds or kilograms.\n"
     ]
    }
   ],
   "source": [
    "# Display the XML content \n",
    "display_xml(root)"
   ]
  }
 ],
 "metadata": {
  "kernelspec": {
   "display_name": "Python 3 (ipykernel)",
   "language": "python",
   "name": "python3"
  },
  "language_info": {
   "codemirror_mode": {
    "name": "ipython",
    "version": 3
   },
   "file_extension": ".py",
   "mimetype": "text/x-python",
   "name": "python",
   "nbconvert_exporter": "python",
   "pygments_lexer": "ipython3",
   "version": "3.12.8"
  },
  "widgets": {
   "application/vnd.jupyter.widget-state+json": {
    "state": {},
    "version_major": 2,
    "version_minor": 0
   }
  }
 },
 "nbformat": 4,
 "nbformat_minor": 4
}
