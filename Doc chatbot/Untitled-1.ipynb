{
 "cells": [
  {
   "cell_type": "code",
   "execution_count": 1,
   "metadata": {},
   "outputs": [],
   "source": [
    "import requests\n",
    "import xml.etree.ElementTree as ET\n",
    "import pandas as pd"
   ]
  },
  {
   "cell_type": "code",
   "execution_count": 3,
   "metadata": {
    "scrolled": true
   },
   "outputs": [],
   "source": [
    "# fetching data\n",
    "url = 'https://medlineplus.gov/xml/generalhealthdefinitions.xml'\n",
    "response = requests.get(url)\n",
    "with open('generalhealthdefinitions.xml', 'wb') as file:\n",
    "    file.write(response.content)"
   ]
  },
  {
   "cell_type": "code",
   "execution_count": 10,
   "metadata": {},
   "outputs": [],
   "source": [
    "# fetching data\n",
    "url = 'https://medlineplus.gov/xml/fitnessdefinitions.xml'\n",
    "response = requests.get(url)\n",
    "with open('fitnessdefinitions.xml', 'wb') as file:\n",
    "    file.write(response.content)"
   ]
  },
  {
   "cell_type": "code",
   "execution_count": 15,
   "metadata": {},
   "outputs": [],
   "source": [
    "# fetching data\n",
    "url = 'https://medlineplus.gov/xml/mineralsdefinitions.xml'\n",
    "response = requests.get(url)\n",
    "with open('mineralsdefinitions.xml', 'wb') as file:\n",
    "    file.write(response.content)"
   ]
  },
  {
   "cell_type": "code",
   "execution_count": 14,
   "metadata": {},
   "outputs": [],
   "source": [
    "# fetching data\n",
    "url = 'https://medlineplus.gov/xml/nutritiondefinitions.xml'\n",
    "response = requests.get(url)\n",
    "with open('nutritiondefinitions.xml', 'wb') as file:\n",
    "    file.write(response.content)"
   ]
  },
  {
   "cell_type": "code",
   "execution_count": 13,
   "metadata": {},
   "outputs": [],
   "source": [
    "# fetching data\n",
    "url = 'https://medlineplus.gov/xml/vitaminsdefinitions.xml'\n",
    "response = requests.get(url)\n",
    "with open('vitaminsdefinitions.xml', 'wb') as file:\n",
    "    file.write(response.content)"
   ]
  },
  {
   "cell_type": "code",
   "execution_count": 24,
   "metadata": {},
   "outputs": [],
   "source": [
    "# parsing the data\n",
    "tree = ET.parse('generalhealthdefinitions.xml')\n",
    "root = tree.getroot()"
   ]
  },
  {
   "cell_type": "code",
   "execution_count": 25,
   "metadata": {},
   "outputs": [],
   "source": [
    "tree = ET.parse('fitnessdefinitions.xml')\n",
    "root1 = tree.getroot"
   ]
  },
  {
   "cell_type": "code",
   "execution_count": 5,
   "metadata": {},
   "outputs": [],
   "source": [
    "# Function to display XML content \n",
    "def display_xml(element, indent=''): \n",
    "    print(indent + element.tag + ': ' + (element.text or '').strip()) \n",
    "    for child in element: \n",
    "        display_xml(child, indent + ' ')"
   ]
  },
  {
   "cell_type": "code",
   "execution_count": 6,
   "metadata": {},
   "outputs": [
    {
     "name": "stdout",
     "output_type": "stream",
     "text": [
      "definition-page: \n",
      " term-group: \n",
      "  term: >Basal Body Temperature\n",
      "  definition: >Basal body temperature is your temperature at rest when you wake up in the morning. This temperature rises slightly around the time of ovulation. Keeping track of this temperature and other changes such as cervical mucus may help you figure out when you are ovulating. Take your temperature before you get out of bed every morning. Since the change during ovulation is only about 1/2 degree F (1/3 degree C), you should use a sensitive thermometer such as a basal body thermometer.\n",
      " term-group: \n",
      "  term: >Blood Alcohol Content\n",
      "  definition: >Blood alcohol content, or blood alcohol concentration (BAC), is the amount of alcohol in a given volume of blood.  For medical and legal purposes, BAC is expressed as grams of alcohol in a 100 milliliter sample of blood.\n",
      " term-group: \n",
      "  term: >Blood  Pressure\n",
      "  definition: >Blood pressure is the force of blood pushing against the walls of the arteries as your heart pumps blood.  It includes two measurements. \"Systolic\" is your blood pressure when your heart beats while pumping blood. \"Diastolic\" is your blood pressure when the heart is at rest between beats. You usually see blood pressure numbers written with the systolic number above or before the diastolic number. For example, you might see 120/80.\n",
      " term-group: \n",
      "  term: >Blood Type\n",
      "  definition: >There are four major blood types: A, B, O, and AB. The types are based on substances on the surface of the blood cells.  Besides blood types, there is the Rh factor.  It is a protein on red blood cells. Most people are Rh-positive; they have Rh factor. Rh-negative people don't have it.  Rh factor is inherited though genes.\n",
      " term-group: \n",
      "  term: >Body Mass Index\n",
      "  definition: >Body Mass Index (BMI) is an estimate of your body fat.  It is calculated from your height and weight.  It can tell you whether you are underweight, normal, overweight, or obese. It can help you gauge your risk for diseases that can occur with more body fat.\n",
      " term-group: \n",
      "  term: >Body Temperature\n",
      "  definition: >Body temperature is a measure of your body’s level of heat.\n",
      " term-group: \n",
      "  term: >Cervical Mucus\n",
      "  definition: >Cervical mucus comes from the cervix. It collects in the vagina. Tracking the changes in your mucus during your cycle, along with changes in your basal body temperature, may help you figure out when you are ovulating.\n",
      " term-group: \n",
      "  term: >Galvanic Skin  Response\n",
      "  definition: >Galvanic skin response is a change in electrical resistance of the skin.  It can occur in response to emotional arousal or other conditions.\n",
      " term-group: \n",
      "  term: >Heart Rate\n",
      "  definition: >Heart rate, or pulse, is how many times your heart beats in a period of time — usually a minute. The usual pulse for an adult is 60 to 100 beats per minute after resting for at least 10 minutes.\n",
      " term-group: \n",
      "  term: >Height\n",
      "  definition: >Your height is the distance from the bottom of your feet to the top of your head when you are standing up straight.\n",
      " term-group: \n",
      "  term: >Inhaler Usage\n",
      "  definition: >An inhaler is a device that sprays medicine through your mouth to your lungs.\n",
      " term-group: \n",
      "  term: >Menstruation\n",
      "  definition: >Menstruation, or period, is normal vaginal bleeding that happens as part of a woman's monthly cycle. Keeping track of your cycles helps you figure out when the next one will come, whether you missed one, and if there is a problem with your cycles.\n",
      " term-group: \n",
      "  term: >Ovulation Test\n",
      "  definition: >Ovulation is the release of an egg from a woman's ovary. Ovulation tests detect a rise in a hormone level that happens just before ovulation. This can help you figure out when you will ovulate, and when you are most likely to get pregnant.\n",
      " term-group: \n",
      "  term: >Respiratory Rate\n",
      "  definition: >Respiratory rate is your rate of breathing (inhalation and exhalation) within a certain time. It is usually stated as breaths per minute.\n",
      " term-group: \n",
      "  term: >Sexual Activity\n",
      "  definition: >Sexuality is part of being human and plays a role in healthy relationships. Keeping track of your sexual activity can help you watch for sexual problems and fertility problems. It can also help you learn about your risk for sexually transmitted diseases.\n",
      " term-group: \n",
      "  term: >Spotting\n",
      "  definition: >Spotting is light vaginal bleeding that is not your period. It could be between periods, after menopause, or during pregnancy. There can be many different causes; some are serious and some are not. Contact your health care provider if you have spotting; call right away if you are pregnant.\n",
      " term-group: \n",
      "  term: >UV Exposure\n",
      "  definition: >Ultraviolet (UV) rays are an invisible form of radiation from sunlight. They can help your body form vitamin D naturally. But they can pass through your skin and damage your skin cells, causing sunburn. UV rays can also cause eye problems, wrinkles, skin spots, and skin cancer.\n",
      " term-group: \n",
      "  term: >Weight (Body Mass)\n",
      "  definition: >Your weight is the mass or quantity of your heaviness.  It is expressed by units of pounds or kilograms.\n"
     ]
    }
   ],
   "source": [
    "# Display the XML content \n",
    "display_xml(root)"
   ]
  },
  {
   "cell_type": "code",
   "execution_count": 7,
   "metadata": {},
   "outputs": [
    {
     "name": "stdout",
     "output_type": "stream",
     "text": [
      "Term: >Basal Body Temperature, Definition: >Basal body temperature is your temperature at rest when you wake up in the morning. This temperature rises slightly around the time of ovulation. Keeping track of this temperature and other changes such as cervical mucus may help you figure out when you are ovulating. Take your temperature before you get out of bed every morning. Since the change during ovulation is only about 1/2 degree F (1/3 degree C), you should use a sensitive thermometer such as a basal body thermometer.\n",
      "Term: >Blood Alcohol Content, Definition: >Blood alcohol content, or blood alcohol concentration (BAC), is the amount of alcohol in a given volume of blood.  For medical and legal purposes, BAC is expressed as grams of alcohol in a 100 milliliter sample of blood.\n",
      "Term: >Blood  Pressure, Definition: >Blood pressure is the force of blood pushing against the walls of the arteries as your heart pumps blood.  It includes two measurements. \"Systolic\" is your blood pressure when your heart beats while pumping blood. \"Diastolic\" is your blood pressure when the heart is at rest between beats. You usually see blood pressure numbers written with the systolic number above or before the diastolic number. For example, you might see 120/80.\n",
      "Term: >Blood Type, Definition: >There are four major blood types: A, B, O, and AB. The types are based on substances on the surface of the blood cells.  Besides blood types, there is the Rh factor.  It is a protein on red blood cells. Most people are Rh-positive; they have Rh factor. Rh-negative people don't have it.  Rh factor is inherited though genes.\n",
      "Term: >Body Mass Index, Definition: >Body Mass Index (BMI) is an estimate of your body fat.  It is calculated from your height and weight.  It can tell you whether you are underweight, normal, overweight, or obese. It can help you gauge your risk for diseases that can occur with more body fat. \n",
      "Term: >Body Temperature, Definition: >Body temperature is a measure of your body’s level of heat. \n",
      "Term: >Cervical Mucus, Definition: >Cervical mucus comes from the cervix. It collects in the vagina. Tracking the changes in your mucus during your cycle, along with changes in your basal body temperature, may help you figure out when you are ovulating.\n",
      "Term: >Galvanic Skin  Response, Definition: >Galvanic skin response is a change in electrical resistance of the skin.  It can occur in response to emotional arousal or other conditions.\n",
      "Term: >Heart Rate, Definition: >Heart rate, or pulse, is how many times your heart beats in a period of time — usually a minute. The usual pulse for an adult is 60 to 100 beats per minute after resting for at least 10 minutes.\n",
      "Term: >Height, Definition: >Your height is the distance from the bottom of your feet to the top of your head when you are standing up straight.\n",
      "Term: >Inhaler Usage, Definition: >An inhaler is a device that sprays medicine through your mouth to your lungs.\n",
      "Term: >Menstruation, Definition: >Menstruation, or period, is normal vaginal bleeding that happens as part of a woman's monthly cycle. Keeping track of your cycles helps you figure out when the next one will come, whether you missed one, and if there is a problem with your cycles.\n",
      "Term: >Ovulation Test, Definition: >Ovulation is the release of an egg from a woman's ovary. Ovulation tests detect a rise in a hormone level that happens just before ovulation. This can help you figure out when you will ovulate, and when you are most likely to get pregnant.\n",
      "Term: >Respiratory Rate, Definition: >Respiratory rate is your rate of breathing (inhalation and exhalation) within a certain time. It is usually stated as breaths per minute.\n",
      "Term: >Sexual Activity, Definition: >Sexuality is part of being human and plays a role in healthy relationships. Keeping track of your sexual activity can help you watch for sexual problems and fertility problems. It can also help you learn about your risk for sexually transmitted diseases.\n",
      "Term: >Spotting, Definition: >Spotting is light vaginal bleeding that is not your period. It could be between periods, after menopause, or during pregnancy. There can be many different causes; some are serious and some are not. Contact your health care provider if you have spotting; call right away if you are pregnant.\n",
      "Term: >UV Exposure, Definition: >Ultraviolet (UV) rays are an invisible form of radiation from sunlight. They can help your body form vitamin D naturally. But they can pass through your skin and damage your skin cells, causing sunburn. UV rays can also cause eye problems, wrinkles, skin spots, and skin cancer.\n",
      "Term: >Weight (Body Mass), Definition: >Your weight is the mass or quantity of your heaviness.  It is expressed by units of pounds or kilograms.\n"
     ]
    }
   ],
   "source": [
    "# Extract specific data \n",
    "for element in root.findall('term-group'): \n",
    "    term = element.find('term').text \n",
    "    definition = element.find('definition').text \n",
    "    print(f'Term: {term}, Definition: {definition}')"
   ]
  },
  {
   "cell_type": "code",
   "execution_count": 8,
   "metadata": {},
   "outputs": [],
   "source": [
    "# Define a function to extract data from XML and convert to a DataFrame \n",
    "def xml_to_dataframe(root): \n",
    "    data = [] \n",
    "    for element in root.findall('term-group'):  \n",
    "        row = {} \n",
    "        for child in element: \n",
    "            row[child.tag] = child.text \n",
    "        data.append(row) \n",
    "    return pd.DataFrame(data)"
   ]
  },
  {
   "cell_type": "code",
   "execution_count": 28,
   "metadata": {},
   "outputs": [],
   "source": [
    "# Define a function to extract data from XML and convert to a DataFrame \n",
    "def xml_to_dataframe(root1): \n",
    "    data = [] \n",
    "    for element in root1.findall('term-group'):  \n",
    "        row = {} \n",
    "        for child in element: \n",
    "            row[child.tag] = child.text \n",
    "        data.append(row) \n",
    "    return pd.DataFrame(data)"
   ]
  },
  {
   "cell_type": "code",
   "execution_count": 9,
   "metadata": {},
   "outputs": [
    {
     "data": {
      "text/html": [
       "<div>\n",
       "<style scoped>\n",
       "    .dataframe tbody tr th:only-of-type {\n",
       "        vertical-align: middle;\n",
       "    }\n",
       "\n",
       "    .dataframe tbody tr th {\n",
       "        vertical-align: top;\n",
       "    }\n",
       "\n",
       "    .dataframe thead th {\n",
       "        text-align: right;\n",
       "    }\n",
       "</style>\n",
       "<table border=\"1\" class=\"dataframe\">\n",
       "  <thead>\n",
       "    <tr style=\"text-align: right;\">\n",
       "      <th></th>\n",
       "      <th>term</th>\n",
       "      <th>definition</th>\n",
       "    </tr>\n",
       "  </thead>\n",
       "  <tbody>\n",
       "    <tr>\n",
       "      <th>0</th>\n",
       "      <td>&gt;Basal Body Temperature</td>\n",
       "      <td>&gt;Basal body temperature is your temperature at...</td>\n",
       "    </tr>\n",
       "    <tr>\n",
       "      <th>1</th>\n",
       "      <td>&gt;Blood Alcohol Content</td>\n",
       "      <td>&gt;Blood alcohol content, or blood alcohol conce...</td>\n",
       "    </tr>\n",
       "    <tr>\n",
       "      <th>2</th>\n",
       "      <td>&gt;Blood  Pressure</td>\n",
       "      <td>&gt;Blood pressure is the force of blood pushing ...</td>\n",
       "    </tr>\n",
       "    <tr>\n",
       "      <th>3</th>\n",
       "      <td>&gt;Blood Type</td>\n",
       "      <td>&gt;There are four major blood types: A, B, O, an...</td>\n",
       "    </tr>\n",
       "    <tr>\n",
       "      <th>4</th>\n",
       "      <td>&gt;Body Mass Index</td>\n",
       "      <td>&gt;Body Mass Index (BMI) is an estimate of your ...</td>\n",
       "    </tr>\n",
       "    <tr>\n",
       "      <th>5</th>\n",
       "      <td>&gt;Body Temperature</td>\n",
       "      <td>&gt;Body temperature is a measure of your body’s ...</td>\n",
       "    </tr>\n",
       "    <tr>\n",
       "      <th>6</th>\n",
       "      <td>&gt;Cervical Mucus</td>\n",
       "      <td>&gt;Cervical mucus comes from the cervix. It coll...</td>\n",
       "    </tr>\n",
       "    <tr>\n",
       "      <th>7</th>\n",
       "      <td>&gt;Galvanic Skin  Response</td>\n",
       "      <td>&gt;Galvanic skin response is a change in electri...</td>\n",
       "    </tr>\n",
       "    <tr>\n",
       "      <th>8</th>\n",
       "      <td>&gt;Heart Rate</td>\n",
       "      <td>&gt;Heart rate, or pulse, is how many times your ...</td>\n",
       "    </tr>\n",
       "    <tr>\n",
       "      <th>9</th>\n",
       "      <td>&gt;Height</td>\n",
       "      <td>&gt;Your height is the distance from the bottom o...</td>\n",
       "    </tr>\n",
       "    <tr>\n",
       "      <th>10</th>\n",
       "      <td>&gt;Inhaler Usage</td>\n",
       "      <td>&gt;An inhaler is a device that sprays medicine t...</td>\n",
       "    </tr>\n",
       "    <tr>\n",
       "      <th>11</th>\n",
       "      <td>&gt;Menstruation</td>\n",
       "      <td>&gt;Menstruation, or period, is normal vaginal bl...</td>\n",
       "    </tr>\n",
       "    <tr>\n",
       "      <th>12</th>\n",
       "      <td>&gt;Ovulation Test</td>\n",
       "      <td>&gt;Ovulation is the release of an egg from a wom...</td>\n",
       "    </tr>\n",
       "    <tr>\n",
       "      <th>13</th>\n",
       "      <td>&gt;Respiratory Rate</td>\n",
       "      <td>&gt;Respiratory rate is your rate of breathing (i...</td>\n",
       "    </tr>\n",
       "    <tr>\n",
       "      <th>14</th>\n",
       "      <td>&gt;Sexual Activity</td>\n",
       "      <td>&gt;Sexuality is part of being human and plays a ...</td>\n",
       "    </tr>\n",
       "    <tr>\n",
       "      <th>15</th>\n",
       "      <td>&gt;Spotting</td>\n",
       "      <td>&gt;Spotting is light vaginal bleeding that is no...</td>\n",
       "    </tr>\n",
       "    <tr>\n",
       "      <th>16</th>\n",
       "      <td>&gt;UV Exposure</td>\n",
       "      <td>&gt;Ultraviolet (UV) rays are an invisible form o...</td>\n",
       "    </tr>\n",
       "    <tr>\n",
       "      <th>17</th>\n",
       "      <td>&gt;Weight (Body Mass)</td>\n",
       "      <td>&gt;Your weight is the mass or quantity of your h...</td>\n",
       "    </tr>\n",
       "  </tbody>\n",
       "</table>\n",
       "</div>"
      ],
      "text/plain": [
       "                        term  \\\n",
       "0    >Basal Body Temperature   \n",
       "1     >Blood Alcohol Content   \n",
       "2           >Blood  Pressure   \n",
       "3                >Blood Type   \n",
       "4           >Body Mass Index   \n",
       "5          >Body Temperature   \n",
       "6            >Cervical Mucus   \n",
       "7   >Galvanic Skin  Response   \n",
       "8                >Heart Rate   \n",
       "9                    >Height   \n",
       "10            >Inhaler Usage   \n",
       "11             >Menstruation   \n",
       "12           >Ovulation Test   \n",
       "13         >Respiratory Rate   \n",
       "14          >Sexual Activity   \n",
       "15                 >Spotting   \n",
       "16              >UV Exposure   \n",
       "17       >Weight (Body Mass)   \n",
       "\n",
       "                                           definition  \n",
       "0   >Basal body temperature is your temperature at...  \n",
       "1   >Blood alcohol content, or blood alcohol conce...  \n",
       "2   >Blood pressure is the force of blood pushing ...  \n",
       "3   >There are four major blood types: A, B, O, an...  \n",
       "4   >Body Mass Index (BMI) is an estimate of your ...  \n",
       "5   >Body temperature is a measure of your body’s ...  \n",
       "6   >Cervical mucus comes from the cervix. It coll...  \n",
       "7   >Galvanic skin response is a change in electri...  \n",
       "8   >Heart rate, or pulse, is how many times your ...  \n",
       "9   >Your height is the distance from the bottom o...  \n",
       "10  >An inhaler is a device that sprays medicine t...  \n",
       "11  >Menstruation, or period, is normal vaginal bl...  \n",
       "12  >Ovulation is the release of an egg from a wom...  \n",
       "13  >Respiratory rate is your rate of breathing (i...  \n",
       "14  >Sexuality is part of being human and plays a ...  \n",
       "15  >Spotting is light vaginal bleeding that is no...  \n",
       "16  >Ultraviolet (UV) rays are an invisible form o...  \n",
       "17  >Your weight is the mass or quantity of your h...  "
      ]
     },
     "execution_count": 9,
     "metadata": {},
     "output_type": "execute_result"
    }
   ],
   "source": [
    "# converting the XML data to a Dataframe\n",
    "ghd = xml_to_dataframe(root)\n",
    "ghd"
   ]
  },
  {
   "cell_type": "code",
   "execution_count": 29,
   "metadata": {},
   "outputs": [
    {
     "ename": "AttributeError",
     "evalue": "'function' object has no attribute 'findall'",
     "output_type": "error",
     "traceback": [
      "\u001b[1;31m---------------------------------------------------------------------------\u001b[0m",
      "\u001b[1;31mAttributeError\u001b[0m                            Traceback (most recent call last)",
      "Cell \u001b[1;32mIn[29], line 1\u001b[0m\n\u001b[1;32m----> 1\u001b[0m fit \u001b[38;5;241m=\u001b[39m \u001b[43mxml_to_dataframe\u001b[49m\u001b[43m(\u001b[49m\u001b[43mroot1\u001b[49m\u001b[43m)\u001b[49m\n\u001b[0;32m      2\u001b[0m fit\n",
      "Cell \u001b[1;32mIn[28], line 4\u001b[0m, in \u001b[0;36mxml_to_dataframe\u001b[1;34m(root1)\u001b[0m\n\u001b[0;32m      2\u001b[0m \u001b[38;5;28;01mdef\u001b[39;00m \u001b[38;5;21mxml_to_dataframe\u001b[39m(root1): \n\u001b[0;32m      3\u001b[0m     data \u001b[38;5;241m=\u001b[39m [] \n\u001b[1;32m----> 4\u001b[0m     \u001b[38;5;28;01mfor\u001b[39;00m element \u001b[38;5;129;01min\u001b[39;00m \u001b[43mroot1\u001b[49m\u001b[38;5;241;43m.\u001b[39;49m\u001b[43mfindall\u001b[49m(\u001b[38;5;124m'\u001b[39m\u001b[38;5;124mterm-group\u001b[39m\u001b[38;5;124m'\u001b[39m):  \n\u001b[0;32m      5\u001b[0m         row \u001b[38;5;241m=\u001b[39m {} \n\u001b[0;32m      6\u001b[0m         \u001b[38;5;28;01mfor\u001b[39;00m child \u001b[38;5;129;01min\u001b[39;00m element: \n",
      "\u001b[1;31mAttributeError\u001b[0m: 'function' object has no attribute 'findall'"
     ]
    }
   ],
   "source": [
    "fit = xml_to_dataframe(root1)\n",
    "fit"
   ]
  }
 ],
 "metadata": {
  "kernelspec": {
   "display_name": "Python 3 (ipykernel)",
   "language": "python",
   "name": "python3"
  },
  "language_info": {
   "codemirror_mode": {
    "name": "ipython",
    "version": 3
   },
   "file_extension": ".py",
   "mimetype": "text/x-python",
   "name": "python",
   "nbconvert_exporter": "python",
   "pygments_lexer": "ipython3",
   "version": "3.12.8"
  },
  "widgets": {
   "application/vnd.jupyter.widget-state+json": {
    "state": {},
    "version_major": 2,
    "version_minor": 0
   }
  }
 },
 "nbformat": 4,
 "nbformat_minor": 4
}
