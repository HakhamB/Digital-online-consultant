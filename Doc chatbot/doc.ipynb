{
 "cells": [
  {
   "cell_type": "code",
   "execution_count": 18,
   "id": "81a52ea4-f5fa-4293-92e3-39d315f8413f",
   "metadata": {},
   "outputs": [],
   "source": [
    "#Fetching necessary libraries\n",
    "import requests\n",
    "import pandas as pd\n",
    "import xml.etree.ElementTree as ET\n",
    "from ydata_profiling import ProfileReport"
   ]
  },
  {
   "cell_type": "code",
   "execution_count": 6,
   "id": "0d35cb68-ea9a-43a7-abaa-994c730d72d6",
   "metadata": {},
   "outputs": [],
   "source": [
    "# List of URLs to request data from\n",
    "urls = [\n",
    "    'https://medlineplus.gov/xml/generalhealthdefinitions.xml',\n",
    "    'https://medlineplus.gov/xml/fitnessdefinitions.xml',\n",
    "    'https://medlineplus.gov/xml/mineralsdefinitions.xml',\n",
    "    'https://medlineplus.gov/xml/vitaminsdefinitions.xml',\n",
    "    'https://medlineplus.gov/xml/nutritiondefinitions.xml'\n",
    "]"
   ]
  },
  {
   "cell_type": "code",
   "execution_count": 7,
   "id": "4a52e57f-855d-453f-854a-eb9cf5a50eaf",
   "metadata": {},
   "outputs": [],
   "source": [
    "#requesting data from a URLs\n",
    "def request_data(url):\n",
    "    try:\n",
    "        response = requests.get(url)\n",
    "        response.raise_for_status()  # Check for HTTP errors\n",
    "        return response.text  # Return the content of the response\n",
    "    except requests.exceptions.RequestException as e:\n",
    "        print(f\"Error requesting data from {url}: {e}\")\n",
    "        return None"
   ]
  },
  {
   "cell_type": "code",
   "execution_count": 8,
   "id": "61176ac0-e441-4ded-bf7b-cd1b8851fdf5",
   "metadata": {},
   "outputs": [],
   "source": [
    "#parsing xml data and converting it to dictionary\n",
    "def parse_data(xml):\n",
    "    root = ET.fromstring(xml)\n",
    "    data = []\n",
    "\n",
    "    for element in root.findall('term-group'):\n",
    "        row = {}\n",
    "        for child in element:\n",
    "            row[child.tag] = child.text\n",
    "        data.append(row)\n",
    "    return data"
   ]
  },
  {
   "cell_type": "code",
   "execution_count": 9,
   "id": "d94ba6f5-153a-431f-8e65-d8ddc59d083c",
   "metadata": {},
   "outputs": [],
   "source": [
    "# Requesting data from all URLs and storing\n",
    "data_list = [request_data(url) for url in urls]"
   ]
  },
  {
   "cell_type": "code",
   "execution_count": 10,
   "id": "7877682b-ef90-46a4-9449-42b0a35c7aaf",
   "metadata": {},
   "outputs": [],
   "source": [
    "#Acummulating all xml data into a single list\n",
    "alldata = []\n",
    "for data in data_list:\n",
    "    if data:\n",
    "        parsed_data = parse_data(data)\n",
    "        alldata.extend(parsed_data)"
   ]
  },
  {
   "cell_type": "code",
   "execution_count": 14,
   "id": "16e5beae-e2d8-4d50-b94e-4637fef1a9fa",
   "metadata": {},
   "outputs": [],
   "source": [
    "df.to_csv('Medicalterms Meaning Data.csv', index = False)"
   ]
  },
  {
   "cell_type": "code",
   "execution_count": 11,
   "id": "b1789199-a351-4342-b7fc-2f0777c1d6cb",
   "metadata": {},
   "outputs": [],
   "source": [
    "#converting to dataframe\n",
    "df = pd.DataFrame(alldata)"
   ]
  },
  {
   "cell_type": "code",
   "execution_count": 15,
   "id": "a5cfba6b-ad8f-459b-9185-0ab4125f379f",
   "metadata": {},
   "outputs": [
    {
     "data": {
      "text/html": [
       "<div>\n",
       "<style scoped>\n",
       "    .dataframe tbody tr th:only-of-type {\n",
       "        vertical-align: middle;\n",
       "    }\n",
       "\n",
       "    .dataframe tbody tr th {\n",
       "        vertical-align: top;\n",
       "    }\n",
       "\n",
       "    .dataframe thead th {\n",
       "        text-align: right;\n",
       "    }\n",
       "</style>\n",
       "<table border=\"1\" class=\"dataframe\">\n",
       "  <thead>\n",
       "    <tr style=\"text-align: right;\">\n",
       "      <th></th>\n",
       "      <th>term</th>\n",
       "      <th>definition</th>\n",
       "    </tr>\n",
       "  </thead>\n",
       "  <tbody>\n",
       "    <tr>\n",
       "      <th>0</th>\n",
       "      <td>&gt;Basal Body Temperature</td>\n",
       "      <td>&gt;Basal body temperature is your temperature at...</td>\n",
       "    </tr>\n",
       "    <tr>\n",
       "      <th>1</th>\n",
       "      <td>&gt;Blood Alcohol Content</td>\n",
       "      <td>&gt;Blood alcohol content, or blood alcohol conce...</td>\n",
       "    </tr>\n",
       "    <tr>\n",
       "      <th>2</th>\n",
       "      <td>&gt;Blood  Pressure</td>\n",
       "      <td>&gt;Blood pressure is the force of blood pushing ...</td>\n",
       "    </tr>\n",
       "    <tr>\n",
       "      <th>3</th>\n",
       "      <td>&gt;Blood Type</td>\n",
       "      <td>&gt;There are four major blood types: A, B, O, an...</td>\n",
       "    </tr>\n",
       "    <tr>\n",
       "      <th>4</th>\n",
       "      <td>&gt;Body Mass Index</td>\n",
       "      <td>&gt;Body Mass Index (BMI) is an estimate of your ...</td>\n",
       "    </tr>\n",
       "    <tr>\n",
       "      <th>...</th>\n",
       "      <td>...</td>\n",
       "      <td>...</td>\n",
       "    </tr>\n",
       "    <tr>\n",
       "      <th>92</th>\n",
       "      <td>&gt;Sugar</td>\n",
       "      <td>&gt;Sugars are a type of simple carbohydrate.  Th...</td>\n",
       "    </tr>\n",
       "    <tr>\n",
       "      <th>93</th>\n",
       "      <td>&gt;Total Fat</td>\n",
       "      <td>&gt;Fat is a type of nutrient. You need a certain...</td>\n",
       "    </tr>\n",
       "    <tr>\n",
       "      <th>94</th>\n",
       "      <td>&gt;Trans Fat</td>\n",
       "      <td>&gt;Trans fat is a type of fat that is created wh...</td>\n",
       "    </tr>\n",
       "    <tr>\n",
       "      <th>95</th>\n",
       "      <td>&gt;Triglycerides</td>\n",
       "      <td>&gt;Triglycerides are a type of fat found in your...</td>\n",
       "    </tr>\n",
       "    <tr>\n",
       "      <th>96</th>\n",
       "      <td>&gt;Water Intake</td>\n",
       "      <td>&gt;We all need to drink water. How much you need...</td>\n",
       "    </tr>\n",
       "  </tbody>\n",
       "</table>\n",
       "<p>97 rows × 2 columns</p>\n",
       "</div>"
      ],
      "text/plain": [
       "                       term                                         definition\n",
       "0   >Basal Body Temperature  >Basal body temperature is your temperature at...\n",
       "1    >Blood Alcohol Content  >Blood alcohol content, or blood alcohol conce...\n",
       "2          >Blood  Pressure  >Blood pressure is the force of blood pushing ...\n",
       "3               >Blood Type  >There are four major blood types: A, B, O, an...\n",
       "4          >Body Mass Index  >Body Mass Index (BMI) is an estimate of your ...\n",
       "..                      ...                                                ...\n",
       "92                   >Sugar  >Sugars are a type of simple carbohydrate.  Th...\n",
       "93               >Total Fat  >Fat is a type of nutrient. You need a certain...\n",
       "94               >Trans Fat  >Trans fat is a type of fat that is created wh...\n",
       "95           >Triglycerides  >Triglycerides are a type of fat found in your...\n",
       "96            >Water Intake  >We all need to drink water. How much you need...\n",
       "\n",
       "[97 rows x 2 columns]"
      ]
     },
     "execution_count": 15,
     "metadata": {},
     "output_type": "execute_result"
    }
   ],
   "source": [
    "df"
   ]
  },
  {
   "cell_type": "markdown",
   "id": "58e24282-e653-4599-9eae-04f6fa0e2ec0",
   "metadata": {},
   "source": [
    "## cleaning terms dataset"
   ]
  },
  {
   "cell_type": "code",
   "execution_count": 17,
   "id": "ced92b6c-cdc1-497c-81b8-5e83ef206950",
   "metadata": {},
   "outputs": [
    {
     "name": "stdout",
     "output_type": "stream",
     "text": [
      "<class 'pandas.core.frame.DataFrame'>\n",
      "RangeIndex: 97 entries, 0 to 96\n",
      "Data columns (total 2 columns):\n",
      " #   Column      Non-Null Count  Dtype \n",
      "---  ------      --------------  ----- \n",
      " 0   term        97 non-null     object\n",
      " 1   definition  97 non-null     object\n",
      "dtypes: object(2)\n",
      "memory usage: 1.6+ KB\n"
     ]
    }
   ],
   "source": [
    "df.info()"
   ]
  },
  {
   "cell_type": "code",
   "execution_count": 19,
   "id": "211699b0-1dd7-421a-92b1-a42d283d6908",
   "metadata": {},
   "outputs": [
    {
     "data": {
      "application/vnd.jupyter.widget-view+json": {
       "model_id": "f5a67f0e1498490bb51283abc1122c95",
       "version_major": 2,
       "version_minor": 0
      },
      "text/plain": [
       "Summarize dataset:   0%|          | 0/5 [00:00<?, ?it/s]"
      ]
     },
     "metadata": {},
     "output_type": "display_data"
    },
    {
     "data": {
      "application/vnd.jupyter.widget-view+json": {
       "model_id": "016eff2e394e4087b9ee82dcd0de9d4d",
       "version_major": 2,
       "version_minor": 0
      },
      "text/plain": [
       "Generate report structure:   0%|          | 0/1 [00:00<?, ?it/s]"
      ]
     },
     "metadata": {},
     "output_type": "display_data"
    },
    {
     "data": {
      "application/vnd.jupyter.widget-view+json": {
       "model_id": "0583ed1a66cb4b5b85789db969d0a0c6",
       "version_major": 2,
       "version_minor": 0
      },
      "text/plain": [
       "Render HTML:   0%|          | 0/1 [00:00<?, ?it/s]"
      ]
     },
     "metadata": {},
     "output_type": "display_data"
    },
    {
     "data": {
      "application/vnd.jupyter.widget-view+json": {
       "model_id": "22b2a8442f684bd7b0c1bd2df8b74c8f",
       "version_major": 2,
       "version_minor": 0
      },
      "text/plain": [
       "Export report to file:   0%|          | 0/1 [00:00<?, ?it/s]"
      ]
     },
     "metadata": {},
     "output_type": "display_data"
    }
   ],
   "source": [
    "#generating pandas profiling report\n",
    "profile = ProfileReport(df, title = 'Medical terms REPORT')\n",
    "profile.to_file('medical terms.html')"
   ]
  },
  {
   "cell_type": "code",
   "execution_count": 20,
   "id": "c9509f17-5b62-476f-8eef-c110266d9d31",
   "metadata": {},
   "outputs": [],
   "source": [
    "df = df.drop_duplicates()"
   ]
  },
  {
   "cell_type": "code",
   "execution_count": 22,
   "id": "6c00b964-58b6-4d82-8641-c296a382b6ff",
   "metadata": {},
   "outputs": [
    {
     "data": {
      "text/plain": [
       "np.int64(0)"
      ]
     },
     "execution_count": 22,
     "metadata": {},
     "output_type": "execute_result"
    }
   ],
   "source": [
    "df.duplicated().sum()"
   ]
  },
  {
   "cell_type": "code",
   "execution_count": 38,
   "id": "fd086d17-13e2-49a9-a2ea-455988d8d7c3",
   "metadata": {},
   "outputs": [
    {
     "data": {
      "text/plain": [
       "term          86\n",
       "definition    85\n",
       "dtype: int64"
      ]
     },
     "execution_count": 38,
     "metadata": {},
     "output_type": "execute_result"
    }
   ],
   "source": [
    "df.nunique()"
   ]
  },
  {
   "cell_type": "code",
   "execution_count": 39,
   "id": "d85b12a4-88d8-4a0f-80c0-ea24809a7224",
   "metadata": {},
   "outputs": [
    {
     "data": {
      "text/plain": [
       "term                      definition                                                                                                                                                                                                                                                                                                                                                                                                                                                                                                                       \n",
       ">Activity Count           >Physical activity is any body movement that works your muscles and requires more energy than resting. Walking, running, dancing, swimming, yoga, and gardening are a few examples of physical activity.                                                                                                                                                                                                                                                                                                                             1\n",
       ">Aerobic Exercise         >Aerobic exercise is activity that moves your large muscles, such as those in your arms and legs.  It makes you breathe harder and your heart beat faster.  Examples include running, swimming, walking, and biking.  Over time, regular aerobic activity makes your heart and lungs stronger and able to work better.                                                                                                                                                                                                               1\n",
       ">Amino Acids              >Amino acids are the building blocks of proteins. The body produces many amino acids and others come from food. The body absorbs amino acids through the small intestine into the blood.  Then the blood carries them throughout the body.                                                                                                                                                                                                                                                                                           1\n",
       ">Antioxidants             >Antioxidants are substances that may prevent or delay some types of cell damage. Examples include beta-carotene, lutein, lycopene, selenium, and vitamins C and E. They are found in many foods, including fruits and vegetables.  They are also available as dietary supplements.  Most research has not shown antioxidant supplements to be helpful in preventing diseases.                                                                                                                                                       1\n",
       ">Basal Body Temperature   >Basal body temperature is your temperature at rest when you wake up in the morning. This temperature rises slightly around the time of ovulation. Keeping track of this temperature and other changes such as cervical mucus may help you figure out when you are ovulating. Take your temperature before you get out of bed every morning. Since the change during ovulation is only about 1/2 degree F (1/3 degree C), you should use a sensitive thermometer such as a basal body thermometer.                                   1\n",
       "                                                                                                                                                                                                                                                                                                                                                                                                                                                                                                                                                              ..\n",
       ">Water Intake             >We all need to drink water. How much you need depends on your size, activity level, and the weather where you live. Keeping track of your water intake helps make sure that you get enough. Your intake includes fluids that you drink, and fluids you get from food.                                                                                                                                                                                                                                                               1\n",
       ">Water-Soluble  Vitamins  >Water-soluble vitamins include all the B vitamins and vitamin C.  The body does not easily store water-soluble vitamins and flushes out the extra in the urine.                                                                                                                                                                                                                                                                                                                                                                     1\n",
       ">Weight (Body Mass)       >Your weight is the mass or quantity of your heaviness.  It is expressed by units of pounds or kilograms.                                                                                                                                                                                                                                                                                                                                                                                                                            1\n",
       ">Weight (Body Mass)       >Your weight is the mass or quantity of your heaviness.  It is expressed by units of pounds or kilograms.                                                                                                                                                                                                                                                                                                                                                                                                                            1\n",
       ">Zinc                     >Zinc, a mineral that people need to stay healthy, is found in cells throughout the body. It helps the immune system fight off invading bacteria and viruses. The body also needs zinc to make proteins and DNA, the genetic material in all cells. During pregnancy, infancy, and childhood, the body needs zinc to grow and develop properly. Zinc also helps wounds heal and is important for our ability to taste and smell. Zinc is found in a wide variety of foods, and is found in most multivitamin/mineral supplements.    1\n",
       "Name: count, Length: 86, dtype: int64"
      ]
     },
     "execution_count": 39,
     "metadata": {},
     "output_type": "execute_result"
    }
   ],
   "source": [
    "df.value_counts()"
   ]
  },
  {
   "cell_type": "code",
   "execution_count": 40,
   "id": "938ccd63-6d7a-4cc6-893b-a66d77b9e1c5",
   "metadata": {},
   "outputs": [],
   "source": [
    "df = df.replace('>', '', regex = True)"
   ]
  },
  {
   "cell_type": "code",
   "execution_count": 41,
   "id": "09c593e7-f666-41e9-9d4f-73831de8eb3c",
   "metadata": {},
   "outputs": [
    {
     "data": {
      "text/html": [
       "<div>\n",
       "<style scoped>\n",
       "    .dataframe tbody tr th:only-of-type {\n",
       "        vertical-align: middle;\n",
       "    }\n",
       "\n",
       "    .dataframe tbody tr th {\n",
       "        vertical-align: top;\n",
       "    }\n",
       "\n",
       "    .dataframe thead th {\n",
       "        text-align: right;\n",
       "    }\n",
       "</style>\n",
       "<table border=\"1\" class=\"dataframe\">\n",
       "  <thead>\n",
       "    <tr style=\"text-align: right;\">\n",
       "      <th></th>\n",
       "      <th>term</th>\n",
       "      <th>definition</th>\n",
       "    </tr>\n",
       "  </thead>\n",
       "  <tbody>\n",
       "    <tr>\n",
       "      <th>0</th>\n",
       "      <td>Basal Body Temperature</td>\n",
       "      <td>Basal body temperature is your temperature at ...</td>\n",
       "    </tr>\n",
       "    <tr>\n",
       "      <th>1</th>\n",
       "      <td>Blood Alcohol Content</td>\n",
       "      <td>Blood alcohol content, or blood alcohol concen...</td>\n",
       "    </tr>\n",
       "    <tr>\n",
       "      <th>2</th>\n",
       "      <td>Blood  Pressure</td>\n",
       "      <td>Blood pressure is the force of blood pushing a...</td>\n",
       "    </tr>\n",
       "    <tr>\n",
       "      <th>3</th>\n",
       "      <td>Blood Type</td>\n",
       "      <td>There are four major blood types: A, B, O, and...</td>\n",
       "    </tr>\n",
       "    <tr>\n",
       "      <th>4</th>\n",
       "      <td>Body Mass Index</td>\n",
       "      <td>Body Mass Index (BMI) is an estimate of your b...</td>\n",
       "    </tr>\n",
       "  </tbody>\n",
       "</table>\n",
       "</div>"
      ],
      "text/plain": [
       "                     term                                         definition\n",
       "0  Basal Body Temperature  Basal body temperature is your temperature at ...\n",
       "1   Blood Alcohol Content  Blood alcohol content, or blood alcohol concen...\n",
       "2         Blood  Pressure  Blood pressure is the force of blood pushing a...\n",
       "3              Blood Type  There are four major blood types: A, B, O, and...\n",
       "4         Body Mass Index  Body Mass Index (BMI) is an estimate of your b..."
      ]
     },
     "execution_count": 41,
     "metadata": {},
     "output_type": "execute_result"
    }
   ],
   "source": [
    "df.head()"
   ]
  },
  {
   "cell_type": "code",
   "execution_count": 58,
   "id": "e840ec89-6a9e-4c06-a142-94f8628143b0",
   "metadata": {},
   "outputs": [
    {
     "data": {
      "text/html": [
       "<div>\n",
       "<style scoped>\n",
       "    .dataframe tbody tr th:only-of-type {\n",
       "        vertical-align: middle;\n",
       "    }\n",
       "\n",
       "    .dataframe tbody tr th {\n",
       "        vertical-align: top;\n",
       "    }\n",
       "\n",
       "    .dataframe thead th {\n",
       "        text-align: right;\n",
       "    }\n",
       "</style>\n",
       "<table border=\"1\" class=\"dataframe\">\n",
       "  <thead>\n",
       "    <tr style=\"text-align: right;\">\n",
       "      <th></th>\n",
       "      <th>term</th>\n",
       "      <th>definition</th>\n",
       "    </tr>\n",
       "  </thead>\n",
       "  <tbody>\n",
       "    <tr>\n",
       "      <th>count</th>\n",
       "      <td>86</td>\n",
       "      <td>86</td>\n",
       "    </tr>\n",
       "    <tr>\n",
       "      <th>unique</th>\n",
       "      <td>86</td>\n",
       "      <td>85</td>\n",
       "    </tr>\n",
       "    <tr>\n",
       "      <th>top</th>\n",
       "      <td>Basal Body Temperature</td>\n",
       "      <td>Your weight is the mass or quantity of your he...</td>\n",
       "    </tr>\n",
       "    <tr>\n",
       "      <th>freq</th>\n",
       "      <td>1</td>\n",
       "      <td>2</td>\n",
       "    </tr>\n",
       "  </tbody>\n",
       "</table>\n",
       "</div>"
      ],
      "text/plain": [
       "                          term  \\\n",
       "count                       86   \n",
       "unique                      86   \n",
       "top     Basal Body Temperature   \n",
       "freq                         1   \n",
       "\n",
       "                                               definition  \n",
       "count                                                  86  \n",
       "unique                                                 85  \n",
       "top     Your weight is the mass or quantity of your he...  \n",
       "freq                                                    2  "
      ]
     },
     "execution_count": 58,
     "metadata": {},
     "output_type": "execute_result"
    }
   ],
   "source": [
    "df.describe()"
   ]
  },
  {
   "cell_type": "code",
   "execution_count": 16,
   "id": "1f4f8797-ed8f-4082-bf7a-5c63461ddfb8",
   "metadata": {},
   "outputs": [
    {
     "data": {
      "text/html": [
       "<div>\n",
       "<style scoped>\n",
       "    .dataframe tbody tr th:only-of-type {\n",
       "        vertical-align: middle;\n",
       "    }\n",
       "\n",
       "    .dataframe tbody tr th {\n",
       "        vertical-align: top;\n",
       "    }\n",
       "\n",
       "    .dataframe thead th {\n",
       "        text-align: right;\n",
       "    }\n",
       "</style>\n",
       "<table border=\"1\" class=\"dataframe\">\n",
       "  <thead>\n",
       "    <tr style=\"text-align: right;\">\n",
       "      <th></th>\n",
       "      <th>Disease</th>\n",
       "      <th>Symptom_1</th>\n",
       "      <th>Symptom_2</th>\n",
       "      <th>Symptom_3</th>\n",
       "      <th>Symptom_4</th>\n",
       "      <th>Symptom_5</th>\n",
       "      <th>Symptom_6</th>\n",
       "      <th>Symptom_7</th>\n",
       "      <th>Symptom_8</th>\n",
       "      <th>Symptom_9</th>\n",
       "      <th>Symptom_10</th>\n",
       "      <th>Symptom_11</th>\n",
       "      <th>Symptom_12</th>\n",
       "      <th>Symptom_13</th>\n",
       "      <th>Symptom_14</th>\n",
       "      <th>Symptom_15</th>\n",
       "      <th>Symptom_16</th>\n",
       "      <th>Symptom_17</th>\n",
       "    </tr>\n",
       "  </thead>\n",
       "  <tbody>\n",
       "    <tr>\n",
       "      <th>0</th>\n",
       "      <td>Fungal infection</td>\n",
       "      <td>itching</td>\n",
       "      <td>skin_rash</td>\n",
       "      <td>nodal_skin_eruptions</td>\n",
       "      <td>dischromic _patches</td>\n",
       "      <td>NaN</td>\n",
       "      <td>NaN</td>\n",
       "      <td>NaN</td>\n",
       "      <td>NaN</td>\n",
       "      <td>NaN</td>\n",
       "      <td>NaN</td>\n",
       "      <td>NaN</td>\n",
       "      <td>NaN</td>\n",
       "      <td>NaN</td>\n",
       "      <td>NaN</td>\n",
       "      <td>NaN</td>\n",
       "      <td>NaN</td>\n",
       "      <td>NaN</td>\n",
       "    </tr>\n",
       "    <tr>\n",
       "      <th>1</th>\n",
       "      <td>Fungal infection</td>\n",
       "      <td>skin_rash</td>\n",
       "      <td>nodal_skin_eruptions</td>\n",
       "      <td>dischromic _patches</td>\n",
       "      <td>NaN</td>\n",
       "      <td>NaN</td>\n",
       "      <td>NaN</td>\n",
       "      <td>NaN</td>\n",
       "      <td>NaN</td>\n",
       "      <td>NaN</td>\n",
       "      <td>NaN</td>\n",
       "      <td>NaN</td>\n",
       "      <td>NaN</td>\n",
       "      <td>NaN</td>\n",
       "      <td>NaN</td>\n",
       "      <td>NaN</td>\n",
       "      <td>NaN</td>\n",
       "      <td>NaN</td>\n",
       "    </tr>\n",
       "    <tr>\n",
       "      <th>2</th>\n",
       "      <td>Fungal infection</td>\n",
       "      <td>itching</td>\n",
       "      <td>nodal_skin_eruptions</td>\n",
       "      <td>dischromic _patches</td>\n",
       "      <td>NaN</td>\n",
       "      <td>NaN</td>\n",
       "      <td>NaN</td>\n",
       "      <td>NaN</td>\n",
       "      <td>NaN</td>\n",
       "      <td>NaN</td>\n",
       "      <td>NaN</td>\n",
       "      <td>NaN</td>\n",
       "      <td>NaN</td>\n",
       "      <td>NaN</td>\n",
       "      <td>NaN</td>\n",
       "      <td>NaN</td>\n",
       "      <td>NaN</td>\n",
       "      <td>NaN</td>\n",
       "    </tr>\n",
       "    <tr>\n",
       "      <th>3</th>\n",
       "      <td>Fungal infection</td>\n",
       "      <td>itching</td>\n",
       "      <td>skin_rash</td>\n",
       "      <td>dischromic _patches</td>\n",
       "      <td>NaN</td>\n",
       "      <td>NaN</td>\n",
       "      <td>NaN</td>\n",
       "      <td>NaN</td>\n",
       "      <td>NaN</td>\n",
       "      <td>NaN</td>\n",
       "      <td>NaN</td>\n",
       "      <td>NaN</td>\n",
       "      <td>NaN</td>\n",
       "      <td>NaN</td>\n",
       "      <td>NaN</td>\n",
       "      <td>NaN</td>\n",
       "      <td>NaN</td>\n",
       "      <td>NaN</td>\n",
       "    </tr>\n",
       "    <tr>\n",
       "      <th>4</th>\n",
       "      <td>Fungal infection</td>\n",
       "      <td>itching</td>\n",
       "      <td>skin_rash</td>\n",
       "      <td>nodal_skin_eruptions</td>\n",
       "      <td>NaN</td>\n",
       "      <td>NaN</td>\n",
       "      <td>NaN</td>\n",
       "      <td>NaN</td>\n",
       "      <td>NaN</td>\n",
       "      <td>NaN</td>\n",
       "      <td>NaN</td>\n",
       "      <td>NaN</td>\n",
       "      <td>NaN</td>\n",
       "      <td>NaN</td>\n",
       "      <td>NaN</td>\n",
       "      <td>NaN</td>\n",
       "      <td>NaN</td>\n",
       "      <td>NaN</td>\n",
       "    </tr>\n",
       "    <tr>\n",
       "      <th>...</th>\n",
       "      <td>...</td>\n",
       "      <td>...</td>\n",
       "      <td>...</td>\n",
       "      <td>...</td>\n",
       "      <td>...</td>\n",
       "      <td>...</td>\n",
       "      <td>...</td>\n",
       "      <td>...</td>\n",
       "      <td>...</td>\n",
       "      <td>...</td>\n",
       "      <td>...</td>\n",
       "      <td>...</td>\n",
       "      <td>...</td>\n",
       "      <td>...</td>\n",
       "      <td>...</td>\n",
       "      <td>...</td>\n",
       "      <td>...</td>\n",
       "      <td>...</td>\n",
       "    </tr>\n",
       "    <tr>\n",
       "      <th>4915</th>\n",
       "      <td>(vertigo) Paroymsal  Positional Vertigo</td>\n",
       "      <td>vomiting</td>\n",
       "      <td>headache</td>\n",
       "      <td>nausea</td>\n",
       "      <td>spinning_movements</td>\n",
       "      <td>loss_of_balance</td>\n",
       "      <td>unsteadiness</td>\n",
       "      <td>NaN</td>\n",
       "      <td>NaN</td>\n",
       "      <td>NaN</td>\n",
       "      <td>NaN</td>\n",
       "      <td>NaN</td>\n",
       "      <td>NaN</td>\n",
       "      <td>NaN</td>\n",
       "      <td>NaN</td>\n",
       "      <td>NaN</td>\n",
       "      <td>NaN</td>\n",
       "      <td>NaN</td>\n",
       "    </tr>\n",
       "    <tr>\n",
       "      <th>4916</th>\n",
       "      <td>Acne</td>\n",
       "      <td>skin_rash</td>\n",
       "      <td>pus_filled_pimples</td>\n",
       "      <td>blackheads</td>\n",
       "      <td>scurring</td>\n",
       "      <td>NaN</td>\n",
       "      <td>NaN</td>\n",
       "      <td>NaN</td>\n",
       "      <td>NaN</td>\n",
       "      <td>NaN</td>\n",
       "      <td>NaN</td>\n",
       "      <td>NaN</td>\n",
       "      <td>NaN</td>\n",
       "      <td>NaN</td>\n",
       "      <td>NaN</td>\n",
       "      <td>NaN</td>\n",
       "      <td>NaN</td>\n",
       "      <td>NaN</td>\n",
       "    </tr>\n",
       "    <tr>\n",
       "      <th>4917</th>\n",
       "      <td>Urinary tract infection</td>\n",
       "      <td>burning_micturition</td>\n",
       "      <td>bladder_discomfort</td>\n",
       "      <td>foul_smell_of urine</td>\n",
       "      <td>continuous_feel_of_urine</td>\n",
       "      <td>NaN</td>\n",
       "      <td>NaN</td>\n",
       "      <td>NaN</td>\n",
       "      <td>NaN</td>\n",
       "      <td>NaN</td>\n",
       "      <td>NaN</td>\n",
       "      <td>NaN</td>\n",
       "      <td>NaN</td>\n",
       "      <td>NaN</td>\n",
       "      <td>NaN</td>\n",
       "      <td>NaN</td>\n",
       "      <td>NaN</td>\n",
       "      <td>NaN</td>\n",
       "    </tr>\n",
       "    <tr>\n",
       "      <th>4918</th>\n",
       "      <td>Psoriasis</td>\n",
       "      <td>skin_rash</td>\n",
       "      <td>joint_pain</td>\n",
       "      <td>skin_peeling</td>\n",
       "      <td>silver_like_dusting</td>\n",
       "      <td>small_dents_in_nails</td>\n",
       "      <td>inflammatory_nails</td>\n",
       "      <td>NaN</td>\n",
       "      <td>NaN</td>\n",
       "      <td>NaN</td>\n",
       "      <td>NaN</td>\n",
       "      <td>NaN</td>\n",
       "      <td>NaN</td>\n",
       "      <td>NaN</td>\n",
       "      <td>NaN</td>\n",
       "      <td>NaN</td>\n",
       "      <td>NaN</td>\n",
       "      <td>NaN</td>\n",
       "    </tr>\n",
       "    <tr>\n",
       "      <th>4919</th>\n",
       "      <td>Impetigo</td>\n",
       "      <td>skin_rash</td>\n",
       "      <td>high_fever</td>\n",
       "      <td>blister</td>\n",
       "      <td>red_sore_around_nose</td>\n",
       "      <td>yellow_crust_ooze</td>\n",
       "      <td>NaN</td>\n",
       "      <td>NaN</td>\n",
       "      <td>NaN</td>\n",
       "      <td>NaN</td>\n",
       "      <td>NaN</td>\n",
       "      <td>NaN</td>\n",
       "      <td>NaN</td>\n",
       "      <td>NaN</td>\n",
       "      <td>NaN</td>\n",
       "      <td>NaN</td>\n",
       "      <td>NaN</td>\n",
       "      <td>NaN</td>\n",
       "    </tr>\n",
       "  </tbody>\n",
       "</table>\n",
       "<p>4920 rows × 18 columns</p>\n",
       "</div>"
      ],
      "text/plain": [
       "                                      Disease             Symptom_1  \\\n",
       "0                            Fungal infection               itching   \n",
       "1                            Fungal infection             skin_rash   \n",
       "2                            Fungal infection               itching   \n",
       "3                            Fungal infection               itching   \n",
       "4                            Fungal infection               itching   \n",
       "...                                       ...                   ...   \n",
       "4915  (vertigo) Paroymsal  Positional Vertigo              vomiting   \n",
       "4916                                     Acne             skin_rash   \n",
       "4917                  Urinary tract infection   burning_micturition   \n",
       "4918                                Psoriasis             skin_rash   \n",
       "4919                                 Impetigo             skin_rash   \n",
       "\n",
       "                  Symptom_2              Symptom_3                  Symptom_4  \\\n",
       "0                 skin_rash   nodal_skin_eruptions        dischromic _patches   \n",
       "1      nodal_skin_eruptions    dischromic _patches                        NaN   \n",
       "2      nodal_skin_eruptions    dischromic _patches                        NaN   \n",
       "3                 skin_rash    dischromic _patches                        NaN   \n",
       "4                 skin_rash   nodal_skin_eruptions                        NaN   \n",
       "...                     ...                    ...                        ...   \n",
       "4915               headache                 nausea         spinning_movements   \n",
       "4916     pus_filled_pimples             blackheads                   scurring   \n",
       "4917     bladder_discomfort    foul_smell_of urine   continuous_feel_of_urine   \n",
       "4918             joint_pain           skin_peeling        silver_like_dusting   \n",
       "4919             high_fever                blister       red_sore_around_nose   \n",
       "\n",
       "                  Symptom_5            Symptom_6 Symptom_7 Symptom_8  \\\n",
       "0                       NaN                  NaN       NaN       NaN   \n",
       "1                       NaN                  NaN       NaN       NaN   \n",
       "2                       NaN                  NaN       NaN       NaN   \n",
       "3                       NaN                  NaN       NaN       NaN   \n",
       "4                       NaN                  NaN       NaN       NaN   \n",
       "...                     ...                  ...       ...       ...   \n",
       "4915        loss_of_balance         unsteadiness       NaN       NaN   \n",
       "4916                    NaN                  NaN       NaN       NaN   \n",
       "4917                    NaN                  NaN       NaN       NaN   \n",
       "4918   small_dents_in_nails   inflammatory_nails       NaN       NaN   \n",
       "4919      yellow_crust_ooze                  NaN       NaN       NaN   \n",
       "\n",
       "     Symptom_9 Symptom_10 Symptom_11 Symptom_12 Symptom_13 Symptom_14  \\\n",
       "0          NaN        NaN        NaN        NaN        NaN        NaN   \n",
       "1          NaN        NaN        NaN        NaN        NaN        NaN   \n",
       "2          NaN        NaN        NaN        NaN        NaN        NaN   \n",
       "3          NaN        NaN        NaN        NaN        NaN        NaN   \n",
       "4          NaN        NaN        NaN        NaN        NaN        NaN   \n",
       "...        ...        ...        ...        ...        ...        ...   \n",
       "4915       NaN        NaN        NaN        NaN        NaN        NaN   \n",
       "4916       NaN        NaN        NaN        NaN        NaN        NaN   \n",
       "4917       NaN        NaN        NaN        NaN        NaN        NaN   \n",
       "4918       NaN        NaN        NaN        NaN        NaN        NaN   \n",
       "4919       NaN        NaN        NaN        NaN        NaN        NaN   \n",
       "\n",
       "     Symptom_15 Symptom_16 Symptom_17  \n",
       "0           NaN        NaN        NaN  \n",
       "1           NaN        NaN        NaN  \n",
       "2           NaN        NaN        NaN  \n",
       "3           NaN        NaN        NaN  \n",
       "4           NaN        NaN        NaN  \n",
       "...         ...        ...        ...  \n",
       "4915        NaN        NaN        NaN  \n",
       "4916        NaN        NaN        NaN  \n",
       "4917        NaN        NaN        NaN  \n",
       "4918        NaN        NaN        NaN  \n",
       "4919        NaN        NaN        NaN  \n",
       "\n",
       "[4920 rows x 18 columns]"
      ]
     },
     "execution_count": 16,
     "metadata": {},
     "output_type": "execute_result"
    }
   ],
   "source": [
    "das = pd.read_csv('DiseaseAndSymptoms.csv')\n",
    "das"
   ]
  },
  {
   "cell_type": "markdown",
   "id": "859377da-9eaa-40a7-aaf7-7e440298ded7",
   "metadata": {},
   "source": [
    "## cleaning diseases and symptoms dataset"
   ]
  },
  {
   "cell_type": "code",
   "execution_count": 42,
   "id": "4178c6d8-2761-4eb0-93ec-c0f730de9637",
   "metadata": {},
   "outputs": [
    {
     "name": "stdout",
     "output_type": "stream",
     "text": [
      "<class 'pandas.core.frame.DataFrame'>\n",
      "RangeIndex: 4920 entries, 0 to 4919\n",
      "Data columns (total 18 columns):\n",
      " #   Column      Non-Null Count  Dtype \n",
      "---  ------      --------------  ----- \n",
      " 0   Disease     4920 non-null   object\n",
      " 1   Symptom_1   4920 non-null   object\n",
      " 2   Symptom_2   4920 non-null   object\n",
      " 3   Symptom_3   4920 non-null   object\n",
      " 4   Symptom_4   4572 non-null   object\n",
      " 5   Symptom_5   3714 non-null   object\n",
      " 6   Symptom_6   2934 non-null   object\n",
      " 7   Symptom_7   2268 non-null   object\n",
      " 8   Symptom_8   1944 non-null   object\n",
      " 9   Symptom_9   1692 non-null   object\n",
      " 10  Symptom_10  1512 non-null   object\n",
      " 11  Symptom_11  1194 non-null   object\n",
      " 12  Symptom_12  744 non-null    object\n",
      " 13  Symptom_13  504 non-null    object\n",
      " 14  Symptom_14  306 non-null    object\n",
      " 15  Symptom_15  240 non-null    object\n",
      " 16  Symptom_16  192 non-null    object\n",
      " 17  Symptom_17  72 non-null     object\n",
      "dtypes: object(18)\n",
      "memory usage: 692.0+ KB\n"
     ]
    }
   ],
   "source": [
    "das.info()"
   ]
  },
  {
   "cell_type": "code",
   "execution_count": 44,
   "id": "fe8ed02f-5fd5-45e1-9304-31aef4ed5232",
   "metadata": {},
   "outputs": [
    {
     "data": {
      "application/vnd.jupyter.widget-view+json": {
       "model_id": "268c88005c444574b580326d639f46d3",
       "version_major": 2,
       "version_minor": 0
      },
      "text/plain": [
       "Summarize dataset:   0%|          | 0/5 [00:00<?, ?it/s]"
      ]
     },
     "metadata": {},
     "output_type": "display_data"
    },
    {
     "data": {
      "application/vnd.jupyter.widget-view+json": {
       "model_id": "474bffb04f21453895e9c12cd536f0f9",
       "version_major": 2,
       "version_minor": 0
      },
      "text/plain": [
       "Generate report structure:   0%|          | 0/1 [00:00<?, ?it/s]"
      ]
     },
     "metadata": {},
     "output_type": "display_data"
    },
    {
     "data": {
      "application/vnd.jupyter.widget-view+json": {
       "model_id": "a0a923ca84894de3b49071e36a5a556c",
       "version_major": 2,
       "version_minor": 0
      },
      "text/plain": [
       "Render HTML:   0%|          | 0/1 [00:00<?, ?it/s]"
      ]
     },
     "metadata": {},
     "output_type": "display_data"
    },
    {
     "data": {
      "application/vnd.jupyter.widget-view+json": {
       "model_id": "92cad560d58e47c8a77c0818583eed3e",
       "version_major": 2,
       "version_minor": 0
      },
      "text/plain": [
       "Export report to file:   0%|          | 0/1 [00:00<?, ?it/s]"
      ]
     },
     "metadata": {},
     "output_type": "display_data"
    }
   ],
   "source": [
    "#generating pandas profiling report\n",
    "profile = ProfileReport(das, title = 'Diseases and Symptoms REPORT')\n",
    "profile.to_file('DiseasesAndSymptoms.html')"
   ]
  },
  {
   "cell_type": "code",
   "execution_count": 47,
   "id": "bf9bfcd1-df36-43c2-8b6f-07dc275a9977",
   "metadata": {},
   "outputs": [
    {
     "data": {
      "text/plain": [
       "Symptom_17\n",
       "muscle_pain    72\n",
       "Name: count, dtype: int64"
      ]
     },
     "execution_count": 47,
     "metadata": {},
     "output_type": "execute_result"
    }
   ],
   "source": [
    "das['Symptom_17'].value_counts()"
   ]
  },
  {
   "cell_type": "code",
   "execution_count": 52,
   "id": "72e8fd95-60ac-4ab5-8f15-81ada362bd7c",
   "metadata": {},
   "outputs": [
    {
     "data": {
      "text/plain": [
       "(4920,)"
      ]
     },
     "execution_count": 52,
     "metadata": {},
     "output_type": "execute_result"
    }
   ],
   "source": [
    "das['Symptom_17'].shape"
   ]
  },
  {
   "cell_type": "code",
   "execution_count": 54,
   "id": "1ff36da9-9db8-4d1a-9937-54f5d7a38645",
   "metadata": {},
   "outputs": [
    {
     "data": {
      "text/plain": [
       "np.int64(4616)"
      ]
     },
     "execution_count": 54,
     "metadata": {},
     "output_type": "execute_result"
    }
   ],
   "source": [
    "das.duplicated().sum()"
   ]
  },
  {
   "cell_type": "code",
   "execution_count": 57,
   "id": "0a0c9dbd-f2de-41f2-b0e9-90ce6179e6bf",
   "metadata": {},
   "outputs": [
    {
     "data": {
      "text/html": [
       "<div>\n",
       "<style scoped>\n",
       "    .dataframe tbody tr th:only-of-type {\n",
       "        vertical-align: middle;\n",
       "    }\n",
       "\n",
       "    .dataframe tbody tr th {\n",
       "        vertical-align: top;\n",
       "    }\n",
       "\n",
       "    .dataframe thead th {\n",
       "        text-align: right;\n",
       "    }\n",
       "</style>\n",
       "<table border=\"1\" class=\"dataframe\">\n",
       "  <thead>\n",
       "    <tr style=\"text-align: right;\">\n",
       "      <th></th>\n",
       "      <th>Disease</th>\n",
       "      <th>Symptom_1</th>\n",
       "      <th>Symptom_2</th>\n",
       "      <th>Symptom_3</th>\n",
       "      <th>Symptom_4</th>\n",
       "      <th>Symptom_5</th>\n",
       "      <th>Symptom_6</th>\n",
       "      <th>Symptom_7</th>\n",
       "      <th>Symptom_8</th>\n",
       "      <th>Symptom_9</th>\n",
       "      <th>Symptom_10</th>\n",
       "      <th>Symptom_11</th>\n",
       "      <th>Symptom_12</th>\n",
       "      <th>Symptom_13</th>\n",
       "      <th>Symptom_14</th>\n",
       "      <th>Symptom_15</th>\n",
       "      <th>Symptom_16</th>\n",
       "      <th>Symptom_17</th>\n",
       "    </tr>\n",
       "  </thead>\n",
       "  <tbody>\n",
       "    <tr>\n",
       "      <th>count</th>\n",
       "      <td>4920</td>\n",
       "      <td>4920</td>\n",
       "      <td>4920</td>\n",
       "      <td>4920</td>\n",
       "      <td>4572</td>\n",
       "      <td>3714</td>\n",
       "      <td>2934</td>\n",
       "      <td>2268</td>\n",
       "      <td>1944</td>\n",
       "      <td>1692</td>\n",
       "      <td>1512</td>\n",
       "      <td>1194</td>\n",
       "      <td>744</td>\n",
       "      <td>504</td>\n",
       "      <td>306</td>\n",
       "      <td>240</td>\n",
       "      <td>192</td>\n",
       "      <td>72</td>\n",
       "    </tr>\n",
       "    <tr>\n",
       "      <th>unique</th>\n",
       "      <td>41</td>\n",
       "      <td>34</td>\n",
       "      <td>48</td>\n",
       "      <td>54</td>\n",
       "      <td>50</td>\n",
       "      <td>38</td>\n",
       "      <td>32</td>\n",
       "      <td>26</td>\n",
       "      <td>21</td>\n",
       "      <td>22</td>\n",
       "      <td>21</td>\n",
       "      <td>18</td>\n",
       "      <td>11</td>\n",
       "      <td>8</td>\n",
       "      <td>4</td>\n",
       "      <td>3</td>\n",
       "      <td>3</td>\n",
       "      <td>1</td>\n",
       "    </tr>\n",
       "    <tr>\n",
       "      <th>top</th>\n",
       "      <td>Fungal infection</td>\n",
       "      <td>vomiting</td>\n",
       "      <td>vomiting</td>\n",
       "      <td>fatigue</td>\n",
       "      <td>high_fever</td>\n",
       "      <td>headache</td>\n",
       "      <td>nausea</td>\n",
       "      <td>abdominal_pain</td>\n",
       "      <td>abdominal_pain</td>\n",
       "      <td>yellowing_of_eyes</td>\n",
       "      <td>yellowing_of_eyes</td>\n",
       "      <td>irritability</td>\n",
       "      <td>malaise</td>\n",
       "      <td>muscle_pain</td>\n",
       "      <td>chest_pain</td>\n",
       "      <td>chest_pain</td>\n",
       "      <td>blood_in_sputum</td>\n",
       "      <td>muscle_pain</td>\n",
       "    </tr>\n",
       "    <tr>\n",
       "      <th>freq</th>\n",
       "      <td>120</td>\n",
       "      <td>822</td>\n",
       "      <td>870</td>\n",
       "      <td>726</td>\n",
       "      <td>378</td>\n",
       "      <td>348</td>\n",
       "      <td>390</td>\n",
       "      <td>264</td>\n",
       "      <td>276</td>\n",
       "      <td>228</td>\n",
       "      <td>198</td>\n",
       "      <td>120</td>\n",
       "      <td>126</td>\n",
       "      <td>72</td>\n",
       "      <td>96</td>\n",
       "      <td>144</td>\n",
       "      <td>72</td>\n",
       "      <td>72</td>\n",
       "    </tr>\n",
       "  </tbody>\n",
       "</table>\n",
       "</div>"
      ],
      "text/plain": [
       "                 Disease  Symptom_1  Symptom_2 Symptom_3    Symptom_4  \\\n",
       "count               4920       4920       4920      4920         4572   \n",
       "unique                41         34         48        54           50   \n",
       "top     Fungal infection   vomiting   vomiting   fatigue   high_fever   \n",
       "freq                 120        822        870       726          378   \n",
       "\n",
       "        Symptom_5 Symptom_6        Symptom_7        Symptom_8  \\\n",
       "count        3714      2934             2268             1944   \n",
       "unique         38        32               26               21   \n",
       "top      headache    nausea   abdominal_pain   abdominal_pain   \n",
       "freq          348       390              264              276   \n",
       "\n",
       "                 Symptom_9          Symptom_10     Symptom_11 Symptom_12  \\\n",
       "count                 1692                1512           1194        744   \n",
       "unique                  22                  21             18         11   \n",
       "top      yellowing_of_eyes   yellowing_of_eyes   irritability    malaise   \n",
       "freq                   228                 198            120        126   \n",
       "\n",
       "          Symptom_13   Symptom_14   Symptom_15        Symptom_16    Symptom_17  \n",
       "count            504          306          240               192            72  \n",
       "unique             8            4            3                 3             1  \n",
       "top      muscle_pain   chest_pain   chest_pain   blood_in_sputum   muscle_pain  \n",
       "freq              72           96          144                72            72  "
      ]
     },
     "execution_count": 57,
     "metadata": {},
     "output_type": "execute_result"
    }
   ],
   "source": [
    "das.describe()"
   ]
  },
  {
   "cell_type": "code",
   "execution_count": 61,
   "id": "0f8f0a6a-23b6-48b2-a288-c90260d0c2fe",
   "metadata": {},
   "outputs": [
    {
     "data": {
      "text/html": [
       "<div>\n",
       "<style scoped>\n",
       "    .dataframe tbody tr th:only-of-type {\n",
       "        vertical-align: middle;\n",
       "    }\n",
       "\n",
       "    .dataframe tbody tr th {\n",
       "        vertical-align: top;\n",
       "    }\n",
       "\n",
       "    .dataframe thead th {\n",
       "        text-align: right;\n",
       "    }\n",
       "</style>\n",
       "<table border=\"1\" class=\"dataframe\">\n",
       "  <thead>\n",
       "    <tr style=\"text-align: right;\">\n",
       "      <th></th>\n",
       "      <th>term</th>\n",
       "      <th>definition</th>\n",
       "      <th>Disease</th>\n",
       "      <th>Symptom_1</th>\n",
       "      <th>Symptom_2</th>\n",
       "      <th>Symptom_3</th>\n",
       "      <th>Symptom_4</th>\n",
       "      <th>Symptom_5</th>\n",
       "      <th>Symptom_6</th>\n",
       "      <th>Symptom_7</th>\n",
       "      <th>Symptom_8</th>\n",
       "      <th>Symptom_9</th>\n",
       "      <th>Symptom_10</th>\n",
       "      <th>Symptom_11</th>\n",
       "      <th>Symptom_12</th>\n",
       "      <th>Symptom_13</th>\n",
       "      <th>Symptom_14</th>\n",
       "      <th>Symptom_15</th>\n",
       "      <th>Symptom_16</th>\n",
       "      <th>Symptom_17</th>\n",
       "    </tr>\n",
       "  </thead>\n",
       "  <tbody>\n",
       "    <tr>\n",
       "      <th>0</th>\n",
       "      <td>Basal Body Temperature</td>\n",
       "      <td>Basal body temperature is your temperature at ...</td>\n",
       "      <td>Fungal infection</td>\n",
       "      <td>itching</td>\n",
       "      <td>skin_rash</td>\n",
       "      <td>nodal_skin_eruptions</td>\n",
       "      <td>dischromic _patches</td>\n",
       "      <td>NaN</td>\n",
       "      <td>NaN</td>\n",
       "      <td>NaN</td>\n",
       "      <td>NaN</td>\n",
       "      <td>NaN</td>\n",
       "      <td>NaN</td>\n",
       "      <td>NaN</td>\n",
       "      <td>NaN</td>\n",
       "      <td>NaN</td>\n",
       "      <td>NaN</td>\n",
       "      <td>NaN</td>\n",
       "      <td>NaN</td>\n",
       "      <td>NaN</td>\n",
       "    </tr>\n",
       "    <tr>\n",
       "      <th>1</th>\n",
       "      <td>Blood Alcohol Content</td>\n",
       "      <td>Blood alcohol content, or blood alcohol concen...</td>\n",
       "      <td>Fungal infection</td>\n",
       "      <td>skin_rash</td>\n",
       "      <td>nodal_skin_eruptions</td>\n",
       "      <td>dischromic _patches</td>\n",
       "      <td>NaN</td>\n",
       "      <td>NaN</td>\n",
       "      <td>NaN</td>\n",
       "      <td>NaN</td>\n",
       "      <td>NaN</td>\n",
       "      <td>NaN</td>\n",
       "      <td>NaN</td>\n",
       "      <td>NaN</td>\n",
       "      <td>NaN</td>\n",
       "      <td>NaN</td>\n",
       "      <td>NaN</td>\n",
       "      <td>NaN</td>\n",
       "      <td>NaN</td>\n",
       "      <td>NaN</td>\n",
       "    </tr>\n",
       "    <tr>\n",
       "      <th>2</th>\n",
       "      <td>Blood  Pressure</td>\n",
       "      <td>Blood pressure is the force of blood pushing a...</td>\n",
       "      <td>Fungal infection</td>\n",
       "      <td>itching</td>\n",
       "      <td>nodal_skin_eruptions</td>\n",
       "      <td>dischromic _patches</td>\n",
       "      <td>NaN</td>\n",
       "      <td>NaN</td>\n",
       "      <td>NaN</td>\n",
       "      <td>NaN</td>\n",
       "      <td>NaN</td>\n",
       "      <td>NaN</td>\n",
       "      <td>NaN</td>\n",
       "      <td>NaN</td>\n",
       "      <td>NaN</td>\n",
       "      <td>NaN</td>\n",
       "      <td>NaN</td>\n",
       "      <td>NaN</td>\n",
       "      <td>NaN</td>\n",
       "      <td>NaN</td>\n",
       "    </tr>\n",
       "    <tr>\n",
       "      <th>3</th>\n",
       "      <td>Blood Type</td>\n",
       "      <td>There are four major blood types: A, B, O, and...</td>\n",
       "      <td>Fungal infection</td>\n",
       "      <td>itching</td>\n",
       "      <td>skin_rash</td>\n",
       "      <td>dischromic _patches</td>\n",
       "      <td>NaN</td>\n",
       "      <td>NaN</td>\n",
       "      <td>NaN</td>\n",
       "      <td>NaN</td>\n",
       "      <td>NaN</td>\n",
       "      <td>NaN</td>\n",
       "      <td>NaN</td>\n",
       "      <td>NaN</td>\n",
       "      <td>NaN</td>\n",
       "      <td>NaN</td>\n",
       "      <td>NaN</td>\n",
       "      <td>NaN</td>\n",
       "      <td>NaN</td>\n",
       "      <td>NaN</td>\n",
       "    </tr>\n",
       "    <tr>\n",
       "      <th>4</th>\n",
       "      <td>Body Mass Index</td>\n",
       "      <td>Body Mass Index (BMI) is an estimate of your b...</td>\n",
       "      <td>Fungal infection</td>\n",
       "      <td>itching</td>\n",
       "      <td>skin_rash</td>\n",
       "      <td>nodal_skin_eruptions</td>\n",
       "      <td>NaN</td>\n",
       "      <td>NaN</td>\n",
       "      <td>NaN</td>\n",
       "      <td>NaN</td>\n",
       "      <td>NaN</td>\n",
       "      <td>NaN</td>\n",
       "      <td>NaN</td>\n",
       "      <td>NaN</td>\n",
       "      <td>NaN</td>\n",
       "      <td>NaN</td>\n",
       "      <td>NaN</td>\n",
       "      <td>NaN</td>\n",
       "      <td>NaN</td>\n",
       "      <td>NaN</td>\n",
       "    </tr>\n",
       "    <tr>\n",
       "      <th>...</th>\n",
       "      <td>...</td>\n",
       "      <td>...</td>\n",
       "      <td>...</td>\n",
       "      <td>...</td>\n",
       "      <td>...</td>\n",
       "      <td>...</td>\n",
       "      <td>...</td>\n",
       "      <td>...</td>\n",
       "      <td>...</td>\n",
       "      <td>...</td>\n",
       "      <td>...</td>\n",
       "      <td>...</td>\n",
       "      <td>...</td>\n",
       "      <td>...</td>\n",
       "      <td>...</td>\n",
       "      <td>...</td>\n",
       "      <td>...</td>\n",
       "      <td>...</td>\n",
       "      <td>...</td>\n",
       "      <td>...</td>\n",
       "    </tr>\n",
       "    <tr>\n",
       "      <th>4915</th>\n",
       "      <td>NaN</td>\n",
       "      <td>NaN</td>\n",
       "      <td>(vertigo) Paroymsal  Positional Vertigo</td>\n",
       "      <td>vomiting</td>\n",
       "      <td>headache</td>\n",
       "      <td>nausea</td>\n",
       "      <td>spinning_movements</td>\n",
       "      <td>loss_of_balance</td>\n",
       "      <td>unsteadiness</td>\n",
       "      <td>NaN</td>\n",
       "      <td>NaN</td>\n",
       "      <td>NaN</td>\n",
       "      <td>NaN</td>\n",
       "      <td>NaN</td>\n",
       "      <td>NaN</td>\n",
       "      <td>NaN</td>\n",
       "      <td>NaN</td>\n",
       "      <td>NaN</td>\n",
       "      <td>NaN</td>\n",
       "      <td>NaN</td>\n",
       "    </tr>\n",
       "    <tr>\n",
       "      <th>4916</th>\n",
       "      <td>NaN</td>\n",
       "      <td>NaN</td>\n",
       "      <td>Acne</td>\n",
       "      <td>skin_rash</td>\n",
       "      <td>pus_filled_pimples</td>\n",
       "      <td>blackheads</td>\n",
       "      <td>scurring</td>\n",
       "      <td>NaN</td>\n",
       "      <td>NaN</td>\n",
       "      <td>NaN</td>\n",
       "      <td>NaN</td>\n",
       "      <td>NaN</td>\n",
       "      <td>NaN</td>\n",
       "      <td>NaN</td>\n",
       "      <td>NaN</td>\n",
       "      <td>NaN</td>\n",
       "      <td>NaN</td>\n",
       "      <td>NaN</td>\n",
       "      <td>NaN</td>\n",
       "      <td>NaN</td>\n",
       "    </tr>\n",
       "    <tr>\n",
       "      <th>4917</th>\n",
       "      <td>NaN</td>\n",
       "      <td>NaN</td>\n",
       "      <td>Urinary tract infection</td>\n",
       "      <td>burning_micturition</td>\n",
       "      <td>bladder_discomfort</td>\n",
       "      <td>foul_smell_of urine</td>\n",
       "      <td>continuous_feel_of_urine</td>\n",
       "      <td>NaN</td>\n",
       "      <td>NaN</td>\n",
       "      <td>NaN</td>\n",
       "      <td>NaN</td>\n",
       "      <td>NaN</td>\n",
       "      <td>NaN</td>\n",
       "      <td>NaN</td>\n",
       "      <td>NaN</td>\n",
       "      <td>NaN</td>\n",
       "      <td>NaN</td>\n",
       "      <td>NaN</td>\n",
       "      <td>NaN</td>\n",
       "      <td>NaN</td>\n",
       "    </tr>\n",
       "    <tr>\n",
       "      <th>4918</th>\n",
       "      <td>NaN</td>\n",
       "      <td>NaN</td>\n",
       "      <td>Psoriasis</td>\n",
       "      <td>skin_rash</td>\n",
       "      <td>joint_pain</td>\n",
       "      <td>skin_peeling</td>\n",
       "      <td>silver_like_dusting</td>\n",
       "      <td>small_dents_in_nails</td>\n",
       "      <td>inflammatory_nails</td>\n",
       "      <td>NaN</td>\n",
       "      <td>NaN</td>\n",
       "      <td>NaN</td>\n",
       "      <td>NaN</td>\n",
       "      <td>NaN</td>\n",
       "      <td>NaN</td>\n",
       "      <td>NaN</td>\n",
       "      <td>NaN</td>\n",
       "      <td>NaN</td>\n",
       "      <td>NaN</td>\n",
       "      <td>NaN</td>\n",
       "    </tr>\n",
       "    <tr>\n",
       "      <th>4919</th>\n",
       "      <td>NaN</td>\n",
       "      <td>NaN</td>\n",
       "      <td>Impetigo</td>\n",
       "      <td>skin_rash</td>\n",
       "      <td>high_fever</td>\n",
       "      <td>blister</td>\n",
       "      <td>red_sore_around_nose</td>\n",
       "      <td>yellow_crust_ooze</td>\n",
       "      <td>NaN</td>\n",
       "      <td>NaN</td>\n",
       "      <td>NaN</td>\n",
       "      <td>NaN</td>\n",
       "      <td>NaN</td>\n",
       "      <td>NaN</td>\n",
       "      <td>NaN</td>\n",
       "      <td>NaN</td>\n",
       "      <td>NaN</td>\n",
       "      <td>NaN</td>\n",
       "      <td>NaN</td>\n",
       "      <td>NaN</td>\n",
       "    </tr>\n",
       "  </tbody>\n",
       "</table>\n",
       "<p>4920 rows × 20 columns</p>\n",
       "</div>"
      ],
      "text/plain": [
       "                        term  \\\n",
       "0     Basal Body Temperature   \n",
       "1      Blood Alcohol Content   \n",
       "2            Blood  Pressure   \n",
       "3                 Blood Type   \n",
       "4            Body Mass Index   \n",
       "...                      ...   \n",
       "4915                     NaN   \n",
       "4916                     NaN   \n",
       "4917                     NaN   \n",
       "4918                     NaN   \n",
       "4919                     NaN   \n",
       "\n",
       "                                             definition  \\\n",
       "0     Basal body temperature is your temperature at ...   \n",
       "1     Blood alcohol content, or blood alcohol concen...   \n",
       "2     Blood pressure is the force of blood pushing a...   \n",
       "3     There are four major blood types: A, B, O, and...   \n",
       "4     Body Mass Index (BMI) is an estimate of your b...   \n",
       "...                                                 ...   \n",
       "4915                                                NaN   \n",
       "4916                                                NaN   \n",
       "4917                                                NaN   \n",
       "4918                                                NaN   \n",
       "4919                                                NaN   \n",
       "\n",
       "                                      Disease             Symptom_1  \\\n",
       "0                            Fungal infection               itching   \n",
       "1                            Fungal infection             skin_rash   \n",
       "2                            Fungal infection               itching   \n",
       "3                            Fungal infection               itching   \n",
       "4                            Fungal infection               itching   \n",
       "...                                       ...                   ...   \n",
       "4915  (vertigo) Paroymsal  Positional Vertigo              vomiting   \n",
       "4916                                     Acne             skin_rash   \n",
       "4917                  Urinary tract infection   burning_micturition   \n",
       "4918                                Psoriasis             skin_rash   \n",
       "4919                                 Impetigo             skin_rash   \n",
       "\n",
       "                  Symptom_2              Symptom_3                  Symptom_4  \\\n",
       "0                 skin_rash   nodal_skin_eruptions        dischromic _patches   \n",
       "1      nodal_skin_eruptions    dischromic _patches                        NaN   \n",
       "2      nodal_skin_eruptions    dischromic _patches                        NaN   \n",
       "3                 skin_rash    dischromic _patches                        NaN   \n",
       "4                 skin_rash   nodal_skin_eruptions                        NaN   \n",
       "...                     ...                    ...                        ...   \n",
       "4915               headache                 nausea         spinning_movements   \n",
       "4916     pus_filled_pimples             blackheads                   scurring   \n",
       "4917     bladder_discomfort    foul_smell_of urine   continuous_feel_of_urine   \n",
       "4918             joint_pain           skin_peeling        silver_like_dusting   \n",
       "4919             high_fever                blister       red_sore_around_nose   \n",
       "\n",
       "                  Symptom_5            Symptom_6 Symptom_7 Symptom_8  \\\n",
       "0                       NaN                  NaN       NaN       NaN   \n",
       "1                       NaN                  NaN       NaN       NaN   \n",
       "2                       NaN                  NaN       NaN       NaN   \n",
       "3                       NaN                  NaN       NaN       NaN   \n",
       "4                       NaN                  NaN       NaN       NaN   \n",
       "...                     ...                  ...       ...       ...   \n",
       "4915        loss_of_balance         unsteadiness       NaN       NaN   \n",
       "4916                    NaN                  NaN       NaN       NaN   \n",
       "4917                    NaN                  NaN       NaN       NaN   \n",
       "4918   small_dents_in_nails   inflammatory_nails       NaN       NaN   \n",
       "4919      yellow_crust_ooze                  NaN       NaN       NaN   \n",
       "\n",
       "     Symptom_9 Symptom_10 Symptom_11 Symptom_12 Symptom_13 Symptom_14  \\\n",
       "0          NaN        NaN        NaN        NaN        NaN        NaN   \n",
       "1          NaN        NaN        NaN        NaN        NaN        NaN   \n",
       "2          NaN        NaN        NaN        NaN        NaN        NaN   \n",
       "3          NaN        NaN        NaN        NaN        NaN        NaN   \n",
       "4          NaN        NaN        NaN        NaN        NaN        NaN   \n",
       "...        ...        ...        ...        ...        ...        ...   \n",
       "4915       NaN        NaN        NaN        NaN        NaN        NaN   \n",
       "4916       NaN        NaN        NaN        NaN        NaN        NaN   \n",
       "4917       NaN        NaN        NaN        NaN        NaN        NaN   \n",
       "4918       NaN        NaN        NaN        NaN        NaN        NaN   \n",
       "4919       NaN        NaN        NaN        NaN        NaN        NaN   \n",
       "\n",
       "     Symptom_15 Symptom_16 Symptom_17  \n",
       "0           NaN        NaN        NaN  \n",
       "1           NaN        NaN        NaN  \n",
       "2           NaN        NaN        NaN  \n",
       "3           NaN        NaN        NaN  \n",
       "4           NaN        NaN        NaN  \n",
       "...         ...        ...        ...  \n",
       "4915        NaN        NaN        NaN  \n",
       "4916        NaN        NaN        NaN  \n",
       "4917        NaN        NaN        NaN  \n",
       "4918        NaN        NaN        NaN  \n",
       "4919        NaN        NaN        NaN  \n",
       "\n",
       "[4920 rows x 20 columns]"
      ]
     },
     "execution_count": 61,
     "metadata": {},
     "output_type": "execute_result"
    }
   ],
   "source": [
    "#concatenate dataframes side by side\n",
    "combined_df = pd.concat([df, das], axis = 1)\n",
    "combined_df"
   ]
  },
  {
   "cell_type": "code",
   "execution_count": 62,
   "id": "f55cf90d-34ac-43ec-a41f-eb7f16798f2b",
   "metadata": {},
   "outputs": [],
   "source": [
    "combined_df.to_csv('combined.csv', index = False)"
   ]
  },
  {
   "cell_type": "markdown",
   "id": "25afcab7-17d1-4a6b-9cd6-64c37e07b108",
   "metadata": {},
   "source": [
    "## NLP"
   ]
  },
  {
   "cell_type": "code",
   "execution_count": 77,
   "id": "aa355004-830d-4b19-98c9-9d14bb2a635a",
   "metadata": {},
   "outputs": [],
   "source": [
    "#importing necessary libraries\n",
    "import nltk\n",
    "from nltk.tokenize import word_tokenize\n",
    "from nltk.corpus import stopwords\n",
    "from sentence_transformers import SentenceTransformer\n",
    "import numpy as np\n",
    "import re\n",
    "from numpy.linalg import norm"
   ]
  },
  {
   "cell_type": "code",
   "execution_count": 92,
   "id": "4936fec8-43ef-4d7d-9bcc-1fd24400bc11",
   "metadata": {},
   "outputs": [
    {
     "name": "stdout",
     "output_type": "stream",
     "text": [
      "Initializing Medical QA System...\n"
     ]
    },
    {
     "name": "stderr",
     "output_type": "stream",
     "text": [
      "[nltk_data] Downloading package punkt to\n",
      "[nltk_data]     C:\\Users\\harka\\AppData\\Roaming\\nltk_data...\n",
      "[nltk_data]   Package punkt is already up-to-date!\n",
      "[nltk_data] Downloading package punkt_tab to\n",
      "[nltk_data]     C:\\Users\\harka\\AppData\\Roaming\\nltk_data...\n",
      "[nltk_data]   Package punkt_tab is already up-to-date!\n",
      "[nltk_data] Downloading package stopwords to\n",
      "[nltk_data]     C:\\Users\\harka\\AppData\\Roaming\\nltk_data...\n",
      "[nltk_data]   Package stopwords is already up-to-date!\n",
      "[nltk_data] Downloading package averaged_perceptron_tagger to\n",
      "[nltk_data]     C:\\Users\\harka\\AppData\\Roaming\\nltk_data...\n",
      "[nltk_data]   Package averaged_perceptron_tagger is already up-to-\n",
      "[nltk_data]       date!\n"
     ]
    },
    {
     "name": "stdout",
     "output_type": "stream",
     "text": [
      "\n",
      "Medical QA System Demo\n",
      "\n",
      "Question: body mass index\n",
      "\n",
      "Answer:\n",
      "I couldn't identify any specific symptoms in your question. Please describe your symptoms more clearly.\n",
      "\n",
      "==================================================\n",
      "\n",
      "Question: I'm experiencing chest pain and shortness of breath\n",
      "\n",
      "Answer:\n",
      "I couldn't identify any specific symptoms in your question. Please describe your symptoms more clearly.\n",
      "\n",
      "==================================================\n",
      "\n",
      "Question: I have constant fatigue and increased thirst with blurred vision\n",
      "\n",
      "Answer:\n",
      "I couldn't identify any specific symptoms in your question. Please describe your symptoms more clearly.\n",
      "\n",
      "==================================================\n",
      "\n"
     ]
    }
   ],
   "source": [
    "class MedicalQA:\n",
    "    def __init__(self):\n",
    "        # Download required NLTK data\n",
    "        nltk.download('punkt')\n",
    "        nltk.download('punkt_tab')\n",
    "        nltk.download('stopwords')\n",
    "        nltk.download('averaged_perceptron_tagger')\n",
    "\n",
    "        \n",
    "        # Initialize the sentence transformer model\n",
    "        self.model = SentenceTransformer('all-MiniLM-L6-v2')\n",
    "        \n",
    "        # Load and process the dataset\n",
    "        self.df = self.load_and_process_data()\n",
    "        \n",
    "        # Create disease-symptom dictionary\n",
    "        self.disease_dict = self.create_disease_dict()\n",
    "        \n",
    "        # Create embeddings for diseases and symptoms\n",
    "        self.disease_embeddings = self.create_disease_embeddings()\n",
    "\n",
    "    def load_and_process_data(self):\n",
    "        df = pd.read_csv('combined.csv')\n",
    "        df = df.dropna()\n",
    "        df = df.iloc[:, 2:]  # Remove empty columns\n",
    "        \n",
    "        # Clean disease names and symptoms\n",
    "        df['Disease'] = df['Disease'].str.strip()\n",
    "        symptoms_cols = [col for col in df.columns if 'Symptom' in col]\n",
    "        \n",
    "        # Combine symptoms into a list\n",
    "        df['symptoms'] = df[symptoms_cols].apply(\n",
    "            lambda x: [str(item).replace('_', ' ').strip() for item in x if pd.notna(item) and str(item) != 'nan'],\n",
    "            axis=1\n",
    "        )\n",
    "        \n",
    "        return df[['Disease', 'symptoms']]\n",
    "\n",
    "    def create_disease_dict(self):\n",
    "        return dict(zip(self.df['Disease'], self.df['symptoms']))\n",
    "\n",
    "    def get_embedding(self, text):\n",
    "        return self.model.encode(text, convert_to_tensor=False)\n",
    "\n",
    "    def create_disease_embeddings(self):\n",
    "        disease_embeddings = {}\n",
    "        \n",
    "        for disease, symptoms in self.disease_dict.items():\n",
    "            # Create a single text combining disease name and symptoms\n",
    "            disease_text = f\"{disease} {' '.join(symptoms)}\"\n",
    "            disease_embeddings[disease] = self.get_embedding(disease_text)\n",
    "            \n",
    "        return disease_embeddings\n",
    "\n",
    "    def cosine_similarity(self, v1, v2):\n",
    "        if (norm(v1) * norm(v2)) == 0:\n",
    "            return 0\n",
    "        return np.dot(v1, v2) / (norm(v1) * norm(v2))\n",
    "\n",
    "    def extract_symptoms(self, question):\n",
    "        \"\"\"Extract symptoms from the question using semantic similarity\"\"\"\n",
    "        processed_question = self.preprocess_question(question)\n",
    "        question_embedding = self.get_embedding(processed_question)\n",
    "        \n",
    "        # Create a set of all known symptoms\n",
    "        all_symptoms = set()\n",
    "        for symptoms in self.disease_dict.values():\n",
    "            all_symptoms.update(symptoms)\n",
    "        \n",
    "        # Find matching symptoms using semantic similarity\n",
    "        found_symptoms = []\n",
    "        for symptom in all_symptoms:\n",
    "            symptom_embedding = self.get_embedding(symptom)\n",
    "            similarity = self.cosine_similarity(question_embedding, symptom_embedding)\n",
    "            \n",
    "            # If similarity is above threshold, consider it a match\n",
    "            if similarity > 0.6:  # Adjust threshold as needed\n",
    "                found_symptoms.append(symptom)\n",
    "                \n",
    "        return found_symptoms\n",
    "\n",
    "    def preprocess_question(self, question):\n",
    "        # Convert to lowercase and remove special characters\n",
    "        question = re.sub(r'[^a-zA-Z\\s]', '', question.lower())\n",
    "        \n",
    "        # Tokenize\n",
    "        tokens = word_tokenize(question)\n",
    "        \n",
    "        # Remove stopwords\n",
    "        stop_words = set(stopwords.words('english'))\n",
    "        tokens = [t for t in tokens if t not in stop_words]\n",
    "        \n",
    "        return ' '.join(tokens)\n",
    "\n",
    "    def get_most_likely_diseases(self, symptoms, top_n=3):\n",
    "        if not symptoms:\n",
    "            return []\n",
    "        \n",
    "        # Create query embedding from symptoms\n",
    "        query_text = ' '.join(symptoms)\n",
    "        query_embedding = self.get_embedding(query_text)\n",
    "        \n",
    "        # Calculate similarities with all diseases\n",
    "        similarities = []\n",
    "        for disease, embedding in self.disease_embeddings.items():\n",
    "            similarity = self.cosine_similarity(query_embedding, embedding)\n",
    "            similarities.append((disease, similarity))\n",
    "        \n",
    "        # Sort by similarity and get top matches\n",
    "        similarities.sort(key=lambda x: x[1], reverse=True)\n",
    "        return [(disease, round(similarity * 100, 2)) for disease, similarity in similarities[:top_n]]\n",
    "\n",
    "    def answer_question(self, question):\n",
    "        try:\n",
    "            # Extract symptoms from question\n",
    "            symptoms = self.extract_symptoms(question)\n",
    "            \n",
    "            if not symptoms:\n",
    "                return \"I couldn't identify any specific symptoms in your question. Please describe your symptoms more clearly.\"\n",
    "            \n",
    "            # Get likely diseases\n",
    "            likely_diseases = self.get_most_likely_diseases(symptoms)\n",
    "            \n",
    "            # Prepare response\n",
    "            response = \"Based on the symptoms you described:\\n\"\n",
    "            response += f\"Identified symptoms: {', '.join(symptoms)}\\n\\n\"\n",
    "            response += \"Possible conditions:\\n\"\n",
    "            \n",
    "            for disease, confidence in likely_diseases:\n",
    "                response += f\"- {disease} (Confidence: {confidence}%)\\n\"\n",
    "                \n",
    "            response += \"\\nPlease note: This is not a medical diagnosis. Consult a healthcare professional for proper medical advice.\"\n",
    "            \n",
    "            return response\n",
    "            \n",
    "        except Exception as e:\n",
    "            return f\"An error occurred: {str(e)}\\nPlease try rephrasing your question.\"\n",
    "\n",
    "# Usage example\n",
    "if __name__ == \"__main__\":\n",
    "    # Initialize the QA system\n",
    "     print(\"Initializing Medical QA System...\")\n",
    "     qa_system = MedicalQA()\n",
    "    \n",
    "    # Example questions\n",
    "     questions = [\n",
    "        \"body mass index\",\n",
    "        \"I'm experiencing chest pain and shortness of breath\",\n",
    "        \"I have constant fatigue and increased thirst with blurred vision\"\n",
    "     ]\n",
    "    \n",
    "     print(\"\\nMedical QA System Demo\\n\")\n",
    "     for question in questions:\n",
    "        print(f\"Question: {question}\")\n",
    "        print(\"\\nAnswer:\")\n",
    "        print(qa_system.answer_question(question))\n",
    "        print(\"\\n\" + \"=\"*50 + \"\\n\")"
   ]
  },
  {
   "cell_type": "code",
   "execution_count": null,
   "id": "d7e159f7-4a2a-4456-88b4-3552e1052c8c",
   "metadata": {},
   "outputs": [],
   "source": [
    "# preprocessing function\n"
   ]
  }
 ],
 "metadata": {
  "kernelspec": {
   "display_name": "Python (MlearninngVS)",
   "language": "python",
   "name": "mlearninng"
  },
  "language_info": {
   "codemirror_mode": {
    "name": "ipython",
    "version": 3
   },
   "file_extension": ".py",
   "mimetype": "text/x-python",
   "name": "python",
   "nbconvert_exporter": "python",
   "pygments_lexer": "ipython3",
   "version": "3.12.8"
  },
  "widgets": {
   "application/vnd.jupyter.widget-state+json": {
    "state": {
     "013a82b5cd63493ab26228fc62723574": {
      "model_module": "@jupyter-widgets/controls",
      "model_module_version": "2.0.0",
      "model_name": "FloatProgressModel",
      "state": {
       "bar_style": "success",
       "layout": "IPY_MODEL_c40ac716ce7f42dc933c4b253d9fb395",
       "max": 612,
       "style": "IPY_MODEL_b42205cef9c54b24acc795fb649ef21c",
       "value": 612
      }
     },
     "016eff2e394e4087b9ee82dcd0de9d4d": {
      "model_module": "@jupyter-widgets/controls",
      "model_module_version": "2.0.0",
      "model_name": "HBoxModel",
      "state": {
       "children": [
        "IPY_MODEL_d858de2134c348bfbe2c8150c862c85c",
        "IPY_MODEL_16a1f842dee640eab92ed8d2759f94e8",
        "IPY_MODEL_8cbbcb2e60cf44739afed0ac8695e81b"
       ],
       "layout": "IPY_MODEL_5f8d96f80f9e4cbf92752259955cab41"
      }
     },
     "01faa8654fea4bd7ab92abd659c19f9b": {
      "model_module": "@jupyter-widgets/controls",
      "model_module_version": "2.0.0",
      "model_name": "HTMLStyleModel",
      "state": {
       "description_width": "",
       "font_size": null,
       "text_color": null
      }
     },
     "02ab2cc8c4a54209b688335da267eab6": {
      "model_module": "@jupyter-widgets/base",
      "model_module_version": "2.0.0",
      "model_name": "LayoutModel",
      "state": {}
     },
     "0319540247eb47e1bc51b6eae91d9c83": {
      "model_module": "@jupyter-widgets/controls",
      "model_module_version": "2.0.0",
      "model_name": "HTMLModel",
      "state": {
       "layout": "IPY_MODEL_db7ae2b403554ae6b44b00338f3bcead",
       "style": "IPY_MODEL_2d431d2ba71044ae9c52c68dc82f0d3e",
       "value": " 90.9M/90.9M [00:57&lt;00:00, 1.51MB/s]"
      }
     },
     "0583ed1a66cb4b5b85789db969d0a0c6": {
      "model_module": "@jupyter-widgets/controls",
      "model_module_version": "2.0.0",
      "model_name": "HBoxModel",
      "state": {
       "children": [
        "IPY_MODEL_0d5ce2a5e8304c0ab3c74a67007fe374",
        "IPY_MODEL_3bb4ecfb5f2d421abfdfb5bfb1c21c8f",
        "IPY_MODEL_735960ad1078427487d209ba043fad6d"
       ],
       "layout": "IPY_MODEL_cfcc8f4971a04db999c6b5305f69a11f"
      }
     },
     "066c22c72a0545fd8b3b7bec13af4d8b": {
      "model_module": "@jupyter-widgets/controls",
      "model_module_version": "2.0.0",
      "model_name": "HTMLModel",
      "state": {
       "layout": "IPY_MODEL_1cc3f8ef246c429da9105ad5c7d141f5",
       "style": "IPY_MODEL_ea29bfa5c917444587f5ab643d8c023e",
       "value": "Summarize dataset: 100%"
      }
     },
     "06e2e5a24f1d436193581e3080fced87": {
      "model_module": "@jupyter-widgets/controls",
      "model_module_version": "2.0.0",
      "model_name": "HBoxModel",
      "state": {
       "children": [
        "IPY_MODEL_5ba92d03692e4a7abf4bd9ac585e79e9",
        "IPY_MODEL_013a82b5cd63493ab26228fc62723574",
        "IPY_MODEL_282bb7b1427b46019f7e464dc2af7746"
       ],
       "layout": "IPY_MODEL_f2e5aec433f4427bad28c0f7eca12927"
      }
     },
     "087df3faae3f4c25a1619b55039cf13e": {
      "model_module": "@jupyter-widgets/base",
      "model_module_version": "2.0.0",
      "model_name": "LayoutModel",
      "state": {}
     },
     "0b1d8c37699546a69c7bf3a600288a7d": {
      "model_module": "@jupyter-widgets/controls",
      "model_module_version": "2.0.0",
      "model_name": "FloatProgressModel",
      "state": {
       "bar_style": "success",
       "layout": "IPY_MODEL_772847ccbf064b879571ff28b0612d70",
       "max": 112,
       "style": "IPY_MODEL_f5b3f352e6d4443dbc48b76b0f7870ad",
       "value": 112
      }
     },
     "0b3ddcbdd1b74c1fb3a06022124d8cb3": {
      "model_module": "@jupyter-widgets/base",
      "model_module_version": "2.0.0",
      "model_name": "LayoutModel",
      "state": {}
     },
     "0b5912e9f14946bc9767fe20c27ef8ca": {
      "model_module": "@jupyter-widgets/base",
      "model_module_version": "2.0.0",
      "model_name": "LayoutModel",
      "state": {}
     },
     "0d5ce2a5e8304c0ab3c74a67007fe374": {
      "model_module": "@jupyter-widgets/controls",
      "model_module_version": "2.0.0",
      "model_name": "HTMLModel",
      "state": {
       "layout": "IPY_MODEL_fcce37bdddb84877bd94e21ec14a57bf",
       "style": "IPY_MODEL_7a6f0f5427f54d84948b311d8f7bd9b4",
       "value": "Render HTML: 100%"
      }
     },
     "0e9cb3f8f5394e05a55dc7332146e996": {
      "model_module": "@jupyter-widgets/controls",
      "model_module_version": "2.0.0",
      "model_name": "HBoxModel",
      "state": {
       "children": [
        "IPY_MODEL_f1b2628fdf814c74871f4c174eda55d6",
        "IPY_MODEL_8841133442884c54892e6b97503388d2",
        "IPY_MODEL_ee3d613ce4034758953c1012539fadcf"
       ],
       "layout": "IPY_MODEL_66d95b0a9e97457486b505cba694c289"
      }
     },
     "0eb1c00ab21848babddaba40df4dfb6b": {
      "model_module": "@jupyter-widgets/controls",
      "model_module_version": "2.0.0",
      "model_name": "HTMLStyleModel",
      "state": {
       "description_width": "",
       "font_size": null,
       "text_color": null
      }
     },
     "0fc99609666042f28f22dc3a5ee77a79": {
      "model_module": "@jupyter-widgets/controls",
      "model_module_version": "2.0.0",
      "model_name": "HTMLModel",
      "state": {
       "layout": "IPY_MODEL_62a40ced878642b5a6768dbdc64830dd",
       "style": "IPY_MODEL_4ee7ed89482c4df2a6d877d9e93e676c",
       "value": " 232k/232k [00:00&lt;00:00, 542kB/s]"
      }
     },
     "0fd8ee8e9bd744cc844e38145fd16397": {
      "model_module": "@jupyter-widgets/base",
      "model_module_version": "2.0.0",
      "model_name": "LayoutModel",
      "state": {}
     },
     "10a5bf0711e74055a45f10669319d9d1": {
      "model_module": "@jupyter-widgets/base",
      "model_module_version": "2.0.0",
      "model_name": "LayoutModel",
      "state": {}
     },
     "11c729e9998e43b3adb671f7c321cd06": {
      "model_module": "@jupyter-widgets/base",
      "model_module_version": "2.0.0",
      "model_name": "LayoutModel",
      "state": {}
     },
     "12885428b1fb48e5bbda7558e5d6938f": {
      "model_module": "@jupyter-widgets/controls",
      "model_module_version": "2.0.0",
      "model_name": "HTMLModel",
      "state": {
       "layout": "IPY_MODEL_900a0c30ce254c7783266d67613ae7c8",
       "style": "IPY_MODEL_8cd9b8dfb4374247aef9810ba015b72e",
       "value": "model.safetensors: 100%"
      }
     },
     "137a89a221cd45afaecff282521112ae": {
      "model_module": "@jupyter-widgets/base",
      "model_module_version": "2.0.0",
      "model_name": "LayoutModel",
      "state": {}
     },
     "16489c6c25e34fc390110a2125a5d117": {
      "model_module": "@jupyter-widgets/controls",
      "model_module_version": "2.0.0",
      "model_name": "HTMLStyleModel",
      "state": {
       "description_width": "",
       "font_size": null,
       "text_color": null
      }
     },
     "16a1f842dee640eab92ed8d2759f94e8": {
      "model_module": "@jupyter-widgets/controls",
      "model_module_version": "2.0.0",
      "model_name": "FloatProgressModel",
      "state": {
       "bar_style": "success",
       "layout": "IPY_MODEL_eea38ccb329145a59e0b9df6458f9710",
       "max": 1,
       "style": "IPY_MODEL_646571628b8a404c875948112c686ca6",
       "value": 1
      }
     },
     "1a000a5e7c8243d59d549e2538a2af9d": {
      "model_module": "@jupyter-widgets/base",
      "model_module_version": "2.0.0",
      "model_name": "LayoutModel",
      "state": {}
     },
     "1a569f13f17d4edcb5b69694e0f7977f": {
      "model_module": "@jupyter-widgets/base",
      "model_module_version": "2.0.0",
      "model_name": "LayoutModel",
      "state": {}
     },
     "1bb753fcbc614eb3baf433c8f6579d7f": {
      "model_module": "@jupyter-widgets/controls",
      "model_module_version": "2.0.0",
      "model_name": "HBoxModel",
      "state": {
       "children": [
        "IPY_MODEL_27f8a1f7482945c2943e0b8eb7c1f266",
        "IPY_MODEL_8634b64599e94e539d50a543757d3b91",
        "IPY_MODEL_6cfb947edeff49e2a7cdf414dcb99e27"
       ],
       "layout": "IPY_MODEL_7985f42978014a3ebe77ccc265fc6421"
      }
     },
     "1cc3f8ef246c429da9105ad5c7d141f5": {
      "model_module": "@jupyter-widgets/base",
      "model_module_version": "2.0.0",
      "model_name": "LayoutModel",
      "state": {}
     },
     "1fa21e653e324b7d8f2d1cd4e69a5857": {
      "model_module": "@jupyter-widgets/base",
      "model_module_version": "2.0.0",
      "model_name": "LayoutModel",
      "state": {}
     },
     "2031d6701e354dcfb71766369a8dfafa": {
      "model_module": "@jupyter-widgets/controls",
      "model_module_version": "2.0.0",
      "model_name": "HBoxModel",
      "state": {
       "children": [
        "IPY_MODEL_ac5c8956be7e48a89c9368a4ad8e42d4",
        "IPY_MODEL_6e11a0a07ea54da9a8093695d2b2fe62",
        "IPY_MODEL_ca4d38bc5fe941669ad871f2437eea28"
       ],
       "layout": "IPY_MODEL_7cde6b32cd52405791c3d3f286ee3730"
      }
     },
     "21e22204ff36479daefc03e79132b2d6": {
      "model_module": "@jupyter-widgets/base",
      "model_module_version": "2.0.0",
      "model_name": "LayoutModel",
      "state": {}
     },
     "22724e558fad447d949135fe28d368b3": {
      "model_module": "@jupyter-widgets/base",
      "model_module_version": "2.0.0",
      "model_name": "LayoutModel",
      "state": {}
     },
     "22b2a8442f684bd7b0c1bd2df8b74c8f": {
      "model_module": "@jupyter-widgets/controls",
      "model_module_version": "2.0.0",
      "model_name": "HBoxModel",
      "state": {
       "children": [
        "IPY_MODEL_d7462b42b3e248f09331595e6fe5ac8e",
        "IPY_MODEL_bf1c3d4641f34e82a35aa3cb7c595694",
        "IPY_MODEL_62c065fd11414436b25cd7503b4941e7"
       ],
       "layout": "IPY_MODEL_9e13b76d84d84ce0b324a5d2d9bf8113"
      }
     },
     "262b0796134d4780909b75c357d35b4d": {
      "model_module": "@jupyter-widgets/controls",
      "model_module_version": "2.0.0",
      "model_name": "HBoxModel",
      "state": {
       "children": [
        "IPY_MODEL_ed79a27e0c1f46e0a5ce22416a80ebe0",
        "IPY_MODEL_7ccc47309ccb4ad0aeba4ea0f21538ca",
        "IPY_MODEL_2696ccaa24ca4a9bafd3503239acc6fc"
       ],
       "layout": "IPY_MODEL_ad12cd3841a041b89e20b204cc74bcb9"
      }
     },
     "268c88005c444574b580326d639f46d3": {
      "model_module": "@jupyter-widgets/controls",
      "model_module_version": "2.0.0",
      "model_name": "HBoxModel",
      "state": {
       "children": [
        "IPY_MODEL_e01deb9faec04cd0a1d699561a96523e",
        "IPY_MODEL_31ec4237203d4ff4ad9bc5d55a039b7e",
        "IPY_MODEL_d8059e12354d4d858d9b32b49fa9cbfe"
       ],
       "layout": "IPY_MODEL_8eb73cd983394095819ae9863df76844"
      }
     },
     "2696ccaa24ca4a9bafd3503239acc6fc": {
      "model_module": "@jupyter-widgets/controls",
      "model_module_version": "2.0.0",
      "model_name": "HTMLModel",
      "state": {
       "layout": "IPY_MODEL_60f56f90e6214ee0a8f51aa0fa8d340b",
       "style": "IPY_MODEL_8167754d456143c8b737573127777465",
       "value": " 350/350 [00:00&lt;00:00, 34.4kB/s]"
      }
     },
     "26fae5b8e25946df8674358f36bf6e58": {
      "model_module": "@jupyter-widgets/controls",
      "model_module_version": "2.0.0",
      "model_name": "HTMLStyleModel",
      "state": {
       "description_width": "",
       "font_size": null,
       "text_color": null
      }
     },
     "27040438f5a943279cb00d49318bcbce": {
      "model_module": "@jupyter-widgets/controls",
      "model_module_version": "2.0.0",
      "model_name": "HTMLStyleModel",
      "state": {
       "description_width": "",
       "font_size": null,
       "text_color": null
      }
     },
     "27ad471e487e4c2b8fa7513edd8aca21": {
      "model_module": "@jupyter-widgets/base",
      "model_module_version": "2.0.0",
      "model_name": "LayoutModel",
      "state": {}
     },
     "27f8a1f7482945c2943e0b8eb7c1f266": {
      "model_module": "@jupyter-widgets/controls",
      "model_module_version": "2.0.0",
      "model_name": "HTMLModel",
      "state": {
       "layout": "IPY_MODEL_999834437270433bbf5f7883f3cccc79",
       "style": "IPY_MODEL_ebe669b961224a559e5a43adce2d3669",
       "value": "README.md: 100%"
      }
     },
     "282bb7b1427b46019f7e464dc2af7746": {
      "model_module": "@jupyter-widgets/controls",
      "model_module_version": "2.0.0",
      "model_name": "HTMLModel",
      "state": {
       "layout": "IPY_MODEL_a7e179e781594159820a4574f1bbcdf0",
       "style": "IPY_MODEL_96234b97ab8e4a7e8605112991c56a0b",
       "value": " 612/612 [00:00&lt;00:00, 30.6kB/s]"
      }
     },
     "29282d149c1943e1a36190c82ca6ec15": {
      "model_module": "@jupyter-widgets/controls",
      "model_module_version": "2.0.0",
      "model_name": "ProgressStyleModel",
      "state": {
       "description_width": ""
      }
     },
     "2d2121298cbd4c5fb05dde29be19a6c9": {
      "model_module": "@jupyter-widgets/controls",
      "model_module_version": "2.0.0",
      "model_name": "HTMLStyleModel",
      "state": {
       "description_width": "",
       "font_size": null,
       "text_color": null
      }
     },
     "2d431d2ba71044ae9c52c68dc82f0d3e": {
      "model_module": "@jupyter-widgets/controls",
      "model_module_version": "2.0.0",
      "model_name": "HTMLStyleModel",
      "state": {
       "description_width": "",
       "font_size": null,
       "text_color": null
      }
     },
     "2dac8b264ca645d3849f3dd2bd59b819": {
      "model_module": "@jupyter-widgets/base",
      "model_module_version": "2.0.0",
      "model_name": "LayoutModel",
      "state": {}
     },
     "2f5911132fcd4408b2e62ca3352abb61": {
      "model_module": "@jupyter-widgets/base",
      "model_module_version": "2.0.0",
      "model_name": "LayoutModel",
      "state": {}
     },
     "2f78c64026e54cc89f44a69fbe3cd33c": {
      "model_module": "@jupyter-widgets/controls",
      "model_module_version": "2.0.0",
      "model_name": "HTMLModel",
      "state": {
       "layout": "IPY_MODEL_d3b0b1d06a754887a6c9f4117125d8b9",
       "style": "IPY_MODEL_50a2aa91c01840aca67a1a6ce46fcf38",
       "value": " 349/349 [00:00&lt;00:00, 10.0kB/s]"
      }
     },
     "2f9bcca56c8e4ef786da0a0a8bc4d033": {
      "model_module": "@jupyter-widgets/controls",
      "model_module_version": "2.0.0",
      "model_name": "HTMLModel",
      "state": {
       "layout": "IPY_MODEL_b556ddcf8d6b482781525a61c78f6710",
       "style": "IPY_MODEL_4ed823e6e847414b8afe8bb2493a72b4",
       "value": "config_sentence_transformers.json: 100%"
      }
     },
     "31ec4237203d4ff4ad9bc5d55a039b7e": {
      "model_module": "@jupyter-widgets/controls",
      "model_module_version": "2.0.0",
      "model_name": "FloatProgressModel",
      "state": {
       "bar_style": "success",
       "layout": "IPY_MODEL_48788f2db8614eb19943f932cfa72166",
       "max": 5,
       "style": "IPY_MODEL_29282d149c1943e1a36190c82ca6ec15",
       "value": 5
      }
     },
     "320c334802f04c27a720842c337e6c53": {
      "model_module": "@jupyter-widgets/base",
      "model_module_version": "2.0.0",
      "model_name": "LayoutModel",
      "state": {}
     },
     "362cb29eba204d2a8b8309331cbad341": {
      "model_module": "@jupyter-widgets/controls",
      "model_module_version": "2.0.0",
      "model_name": "FloatProgressModel",
      "state": {
       "bar_style": "success",
       "layout": "IPY_MODEL_22724e558fad447d949135fe28d368b3",
       "max": 1,
       "style": "IPY_MODEL_6b35a088b818492696bf0fe33872c48d",
       "value": 1
      }
     },
     "369aca41852c4bbcb8cfc99a2fc28fb7": {
      "model_module": "@jupyter-widgets/controls",
      "model_module_version": "2.0.0",
      "model_name": "ProgressStyleModel",
      "state": {
       "description_width": ""
      }
     },
     "39615ac94f39484c924617c32a8d341d": {
      "model_module": "@jupyter-widgets/controls",
      "model_module_version": "2.0.0",
      "model_name": "HTMLModel",
      "state": {
       "layout": "IPY_MODEL_87b4cd33f5634942b467db51b4c23ea7",
       "style": "IPY_MODEL_75a6dce79b804ac9849a37ddad4c11f2",
       "value": "sentence_bert_config.json: 100%"
      }
     },
     "3b0c043ce15141e08c98e1e5b7d580e2": {
      "model_module": "@jupyter-widgets/base",
      "model_module_version": "2.0.0",
      "model_name": "LayoutModel",
      "state": {}
     },
     "3b8d71f37ce84b7889c7caad92b0be2d": {
      "model_module": "@jupyter-widgets/base",
      "model_module_version": "2.0.0",
      "model_name": "LayoutModel",
      "state": {}
     },
     "3bb4ecfb5f2d421abfdfb5bfb1c21c8f": {
      "model_module": "@jupyter-widgets/controls",
      "model_module_version": "2.0.0",
      "model_name": "FloatProgressModel",
      "state": {
       "bar_style": "success",
       "layout": "IPY_MODEL_087df3faae3f4c25a1619b55039cf13e",
       "max": 1,
       "style": "IPY_MODEL_a9696b5b08d344b1a1be67f32507a2f6",
       "value": 1
      }
     },
     "3e4145b1bfa748efa7260b008f876663": {
      "model_module": "@jupyter-widgets/controls",
      "model_module_version": "2.0.0",
      "model_name": "ProgressStyleModel",
      "state": {
       "description_width": ""
      }
     },
     "3f6f023209504c879cad4f9912c34c4a": {
      "model_module": "@jupyter-widgets/controls",
      "model_module_version": "2.0.0",
      "model_name": "HTMLStyleModel",
      "state": {
       "description_width": "",
       "font_size": null,
       "text_color": null
      }
     },
     "3fa42c14f7c94f0c86cb357d0aeda6c0": {
      "model_module": "@jupyter-widgets/base",
      "model_module_version": "2.0.0",
      "model_name": "LayoutModel",
      "state": {}
     },
     "40eed017006747dabe8575f9fcbf3fbd": {
      "model_module": "@jupyter-widgets/base",
      "model_module_version": "2.0.0",
      "model_name": "LayoutModel",
      "state": {}
     },
     "41463dd1a0d34476b96391c136799aee": {
      "model_module": "@jupyter-widgets/controls",
      "model_module_version": "2.0.0",
      "model_name": "FloatProgressModel",
      "state": {
       "bar_style": "success",
       "layout": "IPY_MODEL_720af7799d03455f80528386fa04bc3a",
       "max": 349,
       "style": "IPY_MODEL_fb88e8dd75ce4807bbafd3b5cc4d13a8",
       "value": 349
      }
     },
     "4170287815cd428c81e3cab226291a7a": {
      "model_module": "@jupyter-widgets/base",
      "model_module_version": "2.0.0",
      "model_name": "LayoutModel",
      "state": {}
     },
     "41d3a183f9a84df485f362629d41bc5d": {
      "model_module": "@jupyter-widgets/base",
      "model_module_version": "2.0.0",
      "model_name": "LayoutModel",
      "state": {}
     },
     "445b3840729944808e672bb8be6acbfa": {
      "model_module": "@jupyter-widgets/base",
      "model_module_version": "2.0.0",
      "model_name": "LayoutModel",
      "state": {}
     },
     "46374ba80a2d41f6bdab871c7d2e2587": {
      "model_module": "@jupyter-widgets/base",
      "model_module_version": "2.0.0",
      "model_name": "LayoutModel",
      "state": {}
     },
     "4663ce88c500433d9a66e42703b7edd9": {
      "model_module": "@jupyter-widgets/controls",
      "model_module_version": "2.0.0",
      "model_name": "HTMLStyleModel",
      "state": {
       "description_width": "",
       "font_size": null,
       "text_color": null
      }
     },
     "46784251d1f64e1ca6566136f89fd124": {
      "model_module": "@jupyter-widgets/controls",
      "model_module_version": "2.0.0",
      "model_name": "HTMLStyleModel",
      "state": {
       "description_width": "",
       "font_size": null,
       "text_color": null
      }
     },
     "474bffb04f21453895e9c12cd536f0f9": {
      "model_module": "@jupyter-widgets/controls",
      "model_module_version": "2.0.0",
      "model_name": "HBoxModel",
      "state": {
       "children": [
        "IPY_MODEL_8394ff6e08fa43aba1f4b24133ac1b1d",
        "IPY_MODEL_d8d9355a32634ad387a10276cf2cdb97",
        "IPY_MODEL_ab3b2e55d95040e588e799a9beec354a"
       ],
       "layout": "IPY_MODEL_d8c28e4a1a784d09859ce5944c2277e0"
      }
     },
     "4752f65e968441a4a550cf191c5537a6": {
      "model_module": "@jupyter-widgets/controls",
      "model_module_version": "2.0.0",
      "model_name": "HTMLStyleModel",
      "state": {
       "description_width": "",
       "font_size": null,
       "text_color": null
      }
     },
     "484725bae86f40809de081db295713e1": {
      "model_module": "@jupyter-widgets/base",
      "model_module_version": "2.0.0",
      "model_name": "LayoutModel",
      "state": {}
     },
     "48788f2db8614eb19943f932cfa72166": {
      "model_module": "@jupyter-widgets/base",
      "model_module_version": "2.0.0",
      "model_name": "LayoutModel",
      "state": {}
     },
     "4b5f6f4de54c48b39987f5bf6704256b": {
      "model_module": "@jupyter-widgets/controls",
      "model_module_version": "2.0.0",
      "model_name": "ProgressStyleModel",
      "state": {
       "description_width": ""
      }
     },
     "4ed823e6e847414b8afe8bb2493a72b4": {
      "model_module": "@jupyter-widgets/controls",
      "model_module_version": "2.0.0",
      "model_name": "HTMLStyleModel",
      "state": {
       "description_width": "",
       "font_size": null,
       "text_color": null
      }
     },
     "4ee7ed89482c4df2a6d877d9e93e676c": {
      "model_module": "@jupyter-widgets/controls",
      "model_module_version": "2.0.0",
      "model_name": "HTMLStyleModel",
      "state": {
       "description_width": "",
       "font_size": null,
       "text_color": null
      }
     },
     "50a2aa91c01840aca67a1a6ce46fcf38": {
      "model_module": "@jupyter-widgets/controls",
      "model_module_version": "2.0.0",
      "model_name": "HTMLStyleModel",
      "state": {
       "description_width": "",
       "font_size": null,
       "text_color": null
      }
     },
     "5412328d88ae4cd08f7ae82ca45048a5": {
      "model_module": "@jupyter-widgets/base",
      "model_module_version": "2.0.0",
      "model_name": "LayoutModel",
      "state": {}
     },
     "568660cef5f5499e903ad5b9a483653b": {
      "model_module": "@jupyter-widgets/base",
      "model_module_version": "2.0.0",
      "model_name": "LayoutModel",
      "state": {}
     },
     "57f909445d184e14b9f9a816fbb95b57": {
      "model_module": "@jupyter-widgets/controls",
      "model_module_version": "2.0.0",
      "model_name": "FloatProgressModel",
      "state": {
       "bar_style": "success",
       "layout": "IPY_MODEL_bd952a490aa64f49957d8a7311d80bde",
       "max": 1,
       "style": "IPY_MODEL_f31665d0cee34f50af73e7a3d3869fce",
       "value": 1
      }
     },
     "5a2adb59ee8b4f7396178b4383946857": {
      "model_module": "@jupyter-widgets/controls",
      "model_module_version": "2.0.0",
      "model_name": "ProgressStyleModel",
      "state": {
       "description_width": ""
      }
     },
     "5ba92d03692e4a7abf4bd9ac585e79e9": {
      "model_module": "@jupyter-widgets/controls",
      "model_module_version": "2.0.0",
      "model_name": "HTMLModel",
      "state": {
       "layout": "IPY_MODEL_3b0c043ce15141e08c98e1e5b7d580e2",
       "style": "IPY_MODEL_62ac5a0c7f144a4eb00e2f4688fce5fe",
       "value": "config.json: 100%"
      }
     },
     "5d927a7fce7b4901b6bc6b2bdbb66ced": {
      "model_module": "@jupyter-widgets/controls",
      "model_module_version": "2.0.0",
      "model_name": "HTMLModel",
      "state": {
       "layout": "IPY_MODEL_805d9b39684d470a98f4bce4e04ce9d4",
       "style": "IPY_MODEL_f6052a78dc8c447482257fa4504acdf2",
       "value": " 116/116 [00:00&lt;00:00, 4.68kB/s]"
      }
     },
     "5ef64c6e69a547ebab6908c868214dac": {
      "model_module": "@jupyter-widgets/base",
      "model_module_version": "2.0.0",
      "model_name": "LayoutModel",
      "state": {}
     },
     "5f8d96f80f9e4cbf92752259955cab41": {
      "model_module": "@jupyter-widgets/base",
      "model_module_version": "2.0.0",
      "model_name": "LayoutModel",
      "state": {}
     },
     "5fb699afac73424cab92c9dac35ba361": {
      "model_module": "@jupyter-widgets/controls",
      "model_module_version": "2.0.0",
      "model_name": "HTMLModel",
      "state": {
       "layout": "IPY_MODEL_484725bae86f40809de081db295713e1",
       "style": "IPY_MODEL_9244504ca181468989e0933feb2f7808",
       "value": " 11/11 [00:00&lt;00:00, 16.91it/s, Completed]"
      }
     },
     "6000abae1dac42a18c1a15075d63f15c": {
      "model_module": "@jupyter-widgets/base",
      "model_module_version": "2.0.0",
      "model_name": "LayoutModel",
      "state": {}
     },
     "60f56f90e6214ee0a8f51aa0fa8d340b": {
      "model_module": "@jupyter-widgets/base",
      "model_module_version": "2.0.0",
      "model_name": "LayoutModel",
      "state": {}
     },
     "6108e1f1a737489b838a285f86421fa4": {
      "model_module": "@jupyter-widgets/controls",
      "model_module_version": "2.0.0",
      "model_name": "FloatProgressModel",
      "state": {
       "bar_style": "success",
       "layout": "IPY_MODEL_320c334802f04c27a720842c337e6c53",
       "max": 90868376,
       "style": "IPY_MODEL_5a2adb59ee8b4f7396178b4383946857",
       "value": 90868376
      }
     },
     "62a40ced878642b5a6768dbdc64830dd": {
      "model_module": "@jupyter-widgets/base",
      "model_module_version": "2.0.0",
      "model_name": "LayoutModel",
      "state": {}
     },
     "62ac5a0c7f144a4eb00e2f4688fce5fe": {
      "model_module": "@jupyter-widgets/controls",
      "model_module_version": "2.0.0",
      "model_name": "HTMLStyleModel",
      "state": {
       "description_width": "",
       "font_size": null,
       "text_color": null
      }
     },
     "62c065fd11414436b25cd7503b4941e7": {
      "model_module": "@jupyter-widgets/controls",
      "model_module_version": "2.0.0",
      "model_name": "HTMLModel",
      "state": {
       "layout": "IPY_MODEL_1a000a5e7c8243d59d549e2538a2af9d",
       "style": "IPY_MODEL_e8694ade0a654939b40dd6334f113bef",
       "value": " 1/1 [00:00&lt;00:00, 20.22it/s]"
      }
     },
     "6314cb8278644defbdd4d8953d7917d8": {
      "model_module": "@jupyter-widgets/controls",
      "model_module_version": "2.0.0",
      "model_name": "HBoxModel",
      "state": {
       "children": [
        "IPY_MODEL_7e5263dfda294fa18665d7afef48610f",
        "IPY_MODEL_0b1d8c37699546a69c7bf3a600288a7d",
        "IPY_MODEL_de063823696049b08e4d5962c22b589e"
       ],
       "layout": "IPY_MODEL_11c729e9998e43b3adb671f7c321cd06"
      }
     },
     "646571628b8a404c875948112c686ca6": {
      "model_module": "@jupyter-widgets/controls",
      "model_module_version": "2.0.0",
      "model_name": "ProgressStyleModel",
      "state": {
       "description_width": ""
      }
     },
     "64cc7eae96074eb0b302ee6446f33442": {
      "model_module": "@jupyter-widgets/controls",
      "model_module_version": "2.0.0",
      "model_name": "HTMLModel",
      "state": {
       "layout": "IPY_MODEL_137a89a221cd45afaecff282521112ae",
       "style": "IPY_MODEL_3f6f023209504c879cad4f9912c34c4a",
       "value": "modules.json: 100%"
      }
     },
     "66428af2bd4d475d823eb5651ed61f97": {
      "model_module": "@jupyter-widgets/base",
      "model_module_version": "2.0.0",
      "model_name": "LayoutModel",
      "state": {}
     },
     "6665b5bf50ab4164b165b7eb8571fb9b": {
      "model_module": "@jupyter-widgets/base",
      "model_module_version": "2.0.0",
      "model_name": "LayoutModel",
      "state": {}
     },
     "66d95b0a9e97457486b505cba694c289": {
      "model_module": "@jupyter-widgets/base",
      "model_module_version": "2.0.0",
      "model_name": "LayoutModel",
      "state": {}
     },
     "67c76abff25440ee8c218f1aff0c5880": {
      "model_module": "@jupyter-widgets/base",
      "model_module_version": "2.0.0",
      "model_name": "LayoutModel",
      "state": {}
     },
     "68c243af417b42009b9e21dffaab6b3e": {
      "model_module": "@jupyter-widgets/controls",
      "model_module_version": "2.0.0",
      "model_name": "HTMLStyleModel",
      "state": {
       "description_width": "",
       "font_size": null,
       "text_color": null
      }
     },
     "6b085b92efcf419f9763ad8fab554ac2": {
      "model_module": "@jupyter-widgets/controls",
      "model_module_version": "2.0.0",
      "model_name": "HBoxModel",
      "state": {
       "children": [
        "IPY_MODEL_2f9bcca56c8e4ef786da0a0a8bc4d033",
        "IPY_MODEL_f4f2a8e296f0457189ec3a584e659d8a",
        "IPY_MODEL_5d927a7fce7b4901b6bc6b2bdbb66ced"
       ],
       "layout": "IPY_MODEL_a1216d619af34a729953b85b627fd702"
      }
     },
     "6b35a088b818492696bf0fe33872c48d": {
      "model_module": "@jupyter-widgets/controls",
      "model_module_version": "2.0.0",
      "model_name": "ProgressStyleModel",
      "state": {
       "description_width": ""
      }
     },
     "6cfb947edeff49e2a7cdf414dcb99e27": {
      "model_module": "@jupyter-widgets/controls",
      "model_module_version": "2.0.0",
      "model_name": "HTMLModel",
      "state": {
       "layout": "IPY_MODEL_77457e50c36a4e7181d17b5a374115b9",
       "style": "IPY_MODEL_4752f65e968441a4a550cf191c5537a6",
       "value": " 10.7k/10.7k [00:00&lt;00:00, 333kB/s]"
      }
     },
     "6e11a0a07ea54da9a8093695d2b2fe62": {
      "model_module": "@jupyter-widgets/controls",
      "model_module_version": "2.0.0",
      "model_name": "FloatProgressModel",
      "state": {
       "bar_style": "success",
       "layout": "IPY_MODEL_80adce03808b45bd81fe1c2cc26872f2",
       "max": 1,
       "style": "IPY_MODEL_c396dfff60be4692a52bca25ba7d0a05",
       "value": 1
      }
     },
     "6ea8476458584b60a454432b1b770501": {
      "model_module": "@jupyter-widgets/controls",
      "model_module_version": "2.0.0",
      "model_name": "HTMLStyleModel",
      "state": {
       "description_width": "",
       "font_size": null,
       "text_color": null
      }
     },
     "71177b4823e94377bc0476d73458d3dc": {
      "model_module": "@jupyter-widgets/base",
      "model_module_version": "2.0.0",
      "model_name": "LayoutModel",
      "state": {}
     },
     "71484d1b015d4d5089f8eb6d393aa8dd": {
      "model_module": "@jupyter-widgets/controls",
      "model_module_version": "2.0.0",
      "model_name": "HBoxModel",
      "state": {
       "children": [
        "IPY_MODEL_b17fc9d7aff64631b3545f680f99c5d1",
        "IPY_MODEL_57f909445d184e14b9f9a816fbb95b57",
        "IPY_MODEL_b84a81d3c4b8460dbedd5833e374442f"
       ],
       "layout": "IPY_MODEL_dcdd99ce52894fbe9771e18ea4504906"
      }
     },
     "720af7799d03455f80528386fa04bc3a": {
      "model_module": "@jupyter-widgets/base",
      "model_module_version": "2.0.0",
      "model_name": "LayoutModel",
      "state": {}
     },
     "7260ff4958c940acb4714323796e08c3": {
      "model_module": "@jupyter-widgets/controls",
      "model_module_version": "2.0.0",
      "model_name": "FloatProgressModel",
      "state": {
       "bar_style": "success",
       "layout": "IPY_MODEL_4170287815cd428c81e3cab226291a7a",
       "max": 5,
       "style": "IPY_MODEL_3e4145b1bfa748efa7260b008f876663",
       "value": 5
      }
     },
     "735960ad1078427487d209ba043fad6d": {
      "model_module": "@jupyter-widgets/controls",
      "model_module_version": "2.0.0",
      "model_name": "HTMLModel",
      "state": {
       "layout": "IPY_MODEL_e2a7c6158ded40589fa049d23ef42350",
       "style": "IPY_MODEL_26fae5b8e25946df8674358f36bf6e58",
       "value": " 1/1 [00:00&lt;00:00,  2.02it/s]"
      }
     },
     "75952228e3d64c2cb1b491099c10eaad": {
      "model_module": "@jupyter-widgets/controls",
      "model_module_version": "2.0.0",
      "model_name": "HTMLStyleModel",
      "state": {
       "description_width": "",
       "font_size": null,
       "text_color": null
      }
     },
     "75a6dce79b804ac9849a37ddad4c11f2": {
      "model_module": "@jupyter-widgets/controls",
      "model_module_version": "2.0.0",
      "model_name": "HTMLStyleModel",
      "state": {
       "description_width": "",
       "font_size": null,
       "text_color": null
      }
     },
     "772847ccbf064b879571ff28b0612d70": {
      "model_module": "@jupyter-widgets/base",
      "model_module_version": "2.0.0",
      "model_name": "LayoutModel",
      "state": {}
     },
     "77457e50c36a4e7181d17b5a374115b9": {
      "model_module": "@jupyter-widgets/base",
      "model_module_version": "2.0.0",
      "model_name": "LayoutModel",
      "state": {}
     },
     "78b8ae7f6ca44895955818916341a96d": {
      "model_module": "@jupyter-widgets/controls",
      "model_module_version": "2.0.0",
      "model_name": "HBoxModel",
      "state": {
       "children": [
        "IPY_MODEL_39615ac94f39484c924617c32a8d341d",
        "IPY_MODEL_7f095bf588c742eeb0e387aeac33d5e1",
        "IPY_MODEL_9390811cd54d469abb3a5ce5600f78b3"
       ],
       "layout": "IPY_MODEL_d8bd7bb6c06544adbb7ee6dca92d01e9"
      }
     },
     "796b10c3082b4d279258e6162dfd50f4": {
      "model_module": "@jupyter-widgets/controls",
      "model_module_version": "2.0.0",
      "model_name": "HTMLStyleModel",
      "state": {
       "description_width": "",
       "font_size": null,
       "text_color": null
      }
     },
     "7985f42978014a3ebe77ccc265fc6421": {
      "model_module": "@jupyter-widgets/base",
      "model_module_version": "2.0.0",
      "model_name": "LayoutModel",
      "state": {}
     },
     "7a6f0f5427f54d84948b311d8f7bd9b4": {
      "model_module": "@jupyter-widgets/controls",
      "model_module_version": "2.0.0",
      "model_name": "HTMLStyleModel",
      "state": {
       "description_width": "",
       "font_size": null,
       "text_color": null
      }
     },
     "7b5f1b56503240bcbae2986986f249e7": {
      "model_module": "@jupyter-widgets/controls",
      "model_module_version": "2.0.0",
      "model_name": "HTMLStyleModel",
      "state": {
       "description_width": "",
       "font_size": null,
       "text_color": null
      }
     },
     "7c61a51e13894400afb4d6e6104ed28c": {
      "model_module": "@jupyter-widgets/base",
      "model_module_version": "2.0.0",
      "model_name": "LayoutModel",
      "state": {}
     },
     "7ccc47309ccb4ad0aeba4ea0f21538ca": {
      "model_module": "@jupyter-widgets/controls",
      "model_module_version": "2.0.0",
      "model_name": "FloatProgressModel",
      "state": {
       "bar_style": "success",
       "layout": "IPY_MODEL_e0ac3ad18d3943ca853084aefa1c94ee",
       "max": 350,
       "style": "IPY_MODEL_9ff83785900d4c19ba890ce238562093",
       "value": 350
      }
     },
     "7cde6b32cd52405791c3d3f286ee3730": {
      "model_module": "@jupyter-widgets/base",
      "model_module_version": "2.0.0",
      "model_name": "LayoutModel",
      "state": {}
     },
     "7e5263dfda294fa18665d7afef48610f": {
      "model_module": "@jupyter-widgets/controls",
      "model_module_version": "2.0.0",
      "model_name": "HTMLModel",
      "state": {
       "layout": "IPY_MODEL_40eed017006747dabe8575f9fcbf3fbd",
       "style": "IPY_MODEL_e3dae5df89df49a5a818067a9af247f1",
       "value": "special_tokens_map.json: 100%"
      }
     },
     "7e989315c8f84f04942992f8539e4057": {
      "model_module": "@jupyter-widgets/controls",
      "model_module_version": "2.0.0",
      "model_name": "HTMLModel",
      "state": {
       "layout": "IPY_MODEL_67c76abff25440ee8c218f1aff0c5880",
       "style": "IPY_MODEL_84aac60981244c9a82ee336efe8ac266",
       "value": " 190/190 [00:00&lt;00:00, 6.18kB/s]"
      }
     },
     "7f095bf588c742eeb0e387aeac33d5e1": {
      "model_module": "@jupyter-widgets/controls",
      "model_module_version": "2.0.0",
      "model_name": "FloatProgressModel",
      "state": {
       "bar_style": "success",
       "layout": "IPY_MODEL_9fe700cf355c4c638e716d14a371c126",
       "max": 53,
       "style": "IPY_MODEL_bb53b22a30174673abe7a1878cae4b0a",
       "value": 53
      }
     },
     "800729098f1543c3ae8f81d3e1f592c7": {
      "model_module": "@jupyter-widgets/controls",
      "model_module_version": "2.0.0",
      "model_name": "HTMLStyleModel",
      "state": {
       "description_width": "",
       "font_size": null,
       "text_color": null
      }
     },
     "805d9b39684d470a98f4bce4e04ce9d4": {
      "model_module": "@jupyter-widgets/base",
      "model_module_version": "2.0.0",
      "model_name": "LayoutModel",
      "state": {}
     },
     "80adce03808b45bd81fe1c2cc26872f2": {
      "model_module": "@jupyter-widgets/base",
      "model_module_version": "2.0.0",
      "model_name": "LayoutModel",
      "state": {}
     },
     "814eacbd28b74505afc840fefd1443a5": {
      "model_module": "@jupyter-widgets/controls",
      "model_module_version": "2.0.0",
      "model_name": "HTMLStyleModel",
      "state": {
       "description_width": "",
       "font_size": null,
       "text_color": null
      }
     },
     "8167754d456143c8b737573127777465": {
      "model_module": "@jupyter-widgets/controls",
      "model_module_version": "2.0.0",
      "model_name": "HTMLStyleModel",
      "state": {
       "description_width": "",
       "font_size": null,
       "text_color": null
      }
     },
     "82027220ca4147be9939f0ed08c225c6": {
      "model_module": "@jupyter-widgets/controls",
      "model_module_version": "2.0.0",
      "model_name": "HTMLStyleModel",
      "state": {
       "description_width": "",
       "font_size": null,
       "text_color": null
      }
     },
     "8394ff6e08fa43aba1f4b24133ac1b1d": {
      "model_module": "@jupyter-widgets/controls",
      "model_module_version": "2.0.0",
      "model_name": "HTMLModel",
      "state": {
       "layout": "IPY_MODEL_445b3840729944808e672bb8be6acbfa",
       "style": "IPY_MODEL_0eb1c00ab21848babddaba40df4dfb6b",
       "value": "Generate report structure: 100%"
      }
     },
     "83d76626caaa485bb787c6cd130c0635": {
      "model_module": "@jupyter-widgets/controls",
      "model_module_version": "2.0.0",
      "model_name": "HBoxModel",
      "state": {
       "children": [
        "IPY_MODEL_dd22bebbde16440e90ee7e1fa8dece28",
        "IPY_MODEL_362cb29eba204d2a8b8309331cbad341",
        "IPY_MODEL_cc3baf2e905247b7b232c3b97b960c61"
       ],
       "layout": "IPY_MODEL_41d3a183f9a84df485f362629d41bc5d"
      }
     },
     "84aac60981244c9a82ee336efe8ac266": {
      "model_module": "@jupyter-widgets/controls",
      "model_module_version": "2.0.0",
      "model_name": "HTMLStyleModel",
      "state": {
       "description_width": "",
       "font_size": null,
       "text_color": null
      }
     },
     "853f594c9fb74ac3977eb21fceb372b5": {
      "model_module": "@jupyter-widgets/base",
      "model_module_version": "2.0.0",
      "model_name": "LayoutModel",
      "state": {}
     },
     "8634b64599e94e539d50a543757d3b91": {
      "model_module": "@jupyter-widgets/controls",
      "model_module_version": "2.0.0",
      "model_name": "FloatProgressModel",
      "state": {
       "bar_style": "success",
       "layout": "IPY_MODEL_0b5912e9f14946bc9767fe20c27ef8ca",
       "max": 10659,
       "style": "IPY_MODEL_d345270dc2474d2189df9ff01a89d88a",
       "value": 10659
      }
     },
     "87b4cd33f5634942b467db51b4c23ea7": {
      "model_module": "@jupyter-widgets/base",
      "model_module_version": "2.0.0",
      "model_name": "LayoutModel",
      "state": {}
     },
     "883540c648ec46e4b57597d0bfdb9f4a": {
      "model_module": "@jupyter-widgets/controls",
      "model_module_version": "2.0.0",
      "model_name": "HTMLStyleModel",
      "state": {
       "description_width": "",
       "font_size": null,
       "text_color": null
      }
     },
     "8841133442884c54892e6b97503388d2": {
      "model_module": "@jupyter-widgets/controls",
      "model_module_version": "2.0.0",
      "model_name": "FloatProgressModel",
      "state": {
       "bar_style": "success",
       "layout": "IPY_MODEL_fde8f5d451944beda2b8296bc104fa17",
       "max": 466247,
       "style": "IPY_MODEL_369aca41852c4bbcb8cfc99a2fc28fb7",
       "value": 466247
      }
     },
     "8b307eac6d514ba7a3551de9a8bb9e63": {
      "model_module": "@jupyter-widgets/base",
      "model_module_version": "2.0.0",
      "model_name": "LayoutModel",
      "state": {}
     },
     "8c932792b6d849959898693ade31af8c": {
      "model_module": "@jupyter-widgets/controls",
      "model_module_version": "2.0.0",
      "model_name": "HTMLStyleModel",
      "state": {
       "description_width": "",
       "font_size": null,
       "text_color": null
      }
     },
     "8cbbcb2e60cf44739afed0ac8695e81b": {
      "model_module": "@jupyter-widgets/controls",
      "model_module_version": "2.0.0",
      "model_name": "HTMLModel",
      "state": {
       "layout": "IPY_MODEL_d40c54f5330247c58e0ff026230a177c",
       "style": "IPY_MODEL_da938f15ac6147a2b8281118397dc900",
       "value": " 1/1 [00:02&lt;00:00,  2.50s/it]"
      }
     },
     "8cd9b8dfb4374247aef9810ba015b72e": {
      "model_module": "@jupyter-widgets/controls",
      "model_module_version": "2.0.0",
      "model_name": "HTMLStyleModel",
      "state": {
       "description_width": "",
       "font_size": null,
       "text_color": null
      }
     },
     "8eb73cd983394095819ae9863df76844": {
      "model_module": "@jupyter-widgets/base",
      "model_module_version": "2.0.0",
      "model_name": "LayoutModel",
      "state": {}
     },
     "900a0c30ce254c7783266d67613ae7c8": {
      "model_module": "@jupyter-widgets/base",
      "model_module_version": "2.0.0",
      "model_name": "LayoutModel",
      "state": {}
     },
     "9244504ca181468989e0933feb2f7808": {
      "model_module": "@jupyter-widgets/controls",
      "model_module_version": "2.0.0",
      "model_name": "HTMLStyleModel",
      "state": {
       "description_width": "",
       "font_size": null,
       "text_color": null
      }
     },
     "92cad560d58e47c8a77c0818583eed3e": {
      "model_module": "@jupyter-widgets/controls",
      "model_module_version": "2.0.0",
      "model_name": "HBoxModel",
      "state": {
       "children": [
        "IPY_MODEL_ee2027ac4ea04431b7664b20becbd3e8",
        "IPY_MODEL_9c31558c032f49568a34c3e9c01a0d86",
        "IPY_MODEL_e5621855e30e4c648c4a3cda6a1531c0"
       ],
       "layout": "IPY_MODEL_10a5bf0711e74055a45f10669319d9d1"
      }
     },
     "93483bd6678148bca57d37be420f1849": {
      "model_module": "@jupyter-widgets/controls",
      "model_module_version": "2.0.0",
      "model_name": "HTMLModel",
      "state": {
       "layout": "IPY_MODEL_66428af2bd4d475d823eb5651ed61f97",
       "style": "IPY_MODEL_b9a4716a775b4f58a8725834acead670",
       "value": "vocab.txt: 100%"
      }
     },
     "9390811cd54d469abb3a5ce5600f78b3": {
      "model_module": "@jupyter-widgets/controls",
      "model_module_version": "2.0.0",
      "model_name": "HTMLModel",
      "state": {
       "layout": "IPY_MODEL_d5bb1dd5d7bd4c4ab3487d8ac9fe8c64",
       "style": "IPY_MODEL_9a6b70f6540441dfab681f3ca51dfa90",
       "value": " 53.0/53.0 [00:00&lt;00:00, 1.78kB/s]"
      }
     },
     "941ccd642d20451089b8440ed95fcbaa": {
      "model_module": "@jupyter-widgets/controls",
      "model_module_version": "2.0.0",
      "model_name": "HTMLStyleModel",
      "state": {
       "description_width": "",
       "font_size": null,
       "text_color": null
      }
     },
     "94777597eb1f4ff7befa2a8cbf45d469": {
      "model_module": "@jupyter-widgets/controls",
      "model_module_version": "2.0.0",
      "model_name": "FloatProgressModel",
      "state": {
       "bar_style": "success",
       "layout": "IPY_MODEL_5412328d88ae4cd08f7ae82ca45048a5",
       "max": 231508,
       "style": "IPY_MODEL_f8afaf65094a47018a1ab942ccb0d5e2",
       "value": 231508
      }
     },
     "955830dfaeec48fa97cd6fe31fe090e2": {
      "model_module": "@jupyter-widgets/controls",
      "model_module_version": "2.0.0",
      "model_name": "ProgressStyleModel",
      "state": {
       "description_width": ""
      }
     },
     "955ac323ea994096bff93ed77452de06": {
      "model_module": "@jupyter-widgets/controls",
      "model_module_version": "2.0.0",
      "model_name": "FloatProgressModel",
      "state": {
       "bar_style": "success",
       "layout": "IPY_MODEL_1fa21e653e324b7d8f2d1cd4e69a5857",
       "max": 190,
       "style": "IPY_MODEL_4b5f6f4de54c48b39987f5bf6704256b",
       "value": 190
      }
     },
     "96234b97ab8e4a7e8605112991c56a0b": {
      "model_module": "@jupyter-widgets/controls",
      "model_module_version": "2.0.0",
      "model_name": "HTMLStyleModel",
      "state": {
       "description_width": "",
       "font_size": null,
       "text_color": null
      }
     },
     "999834437270433bbf5f7883f3cccc79": {
      "model_module": "@jupyter-widgets/base",
      "model_module_version": "2.0.0",
      "model_name": "LayoutModel",
      "state": {}
     },
     "9a6b70f6540441dfab681f3ca51dfa90": {
      "model_module": "@jupyter-widgets/controls",
      "model_module_version": "2.0.0",
      "model_name": "HTMLStyleModel",
      "state": {
       "description_width": "",
       "font_size": null,
       "text_color": null
      }
     },
     "9b61adbe17b5499882f9d89676372d32": {
      "model_module": "@jupyter-widgets/base",
      "model_module_version": "2.0.0",
      "model_name": "LayoutModel",
      "state": {}
     },
     "9c31558c032f49568a34c3e9c01a0d86": {
      "model_module": "@jupyter-widgets/controls",
      "model_module_version": "2.0.0",
      "model_name": "FloatProgressModel",
      "state": {
       "bar_style": "success",
       "layout": "IPY_MODEL_5ef64c6e69a547ebab6908c868214dac",
       "max": 1,
       "style": "IPY_MODEL_baec1ad6473a429bad8d0cb45bb5643f",
       "value": 1
      }
     },
     "9e13b76d84d84ce0b324a5d2d9bf8113": {
      "model_module": "@jupyter-widgets/base",
      "model_module_version": "2.0.0",
      "model_name": "LayoutModel",
      "state": {}
     },
     "9fe700cf355c4c638e716d14a371c126": {
      "model_module": "@jupyter-widgets/base",
      "model_module_version": "2.0.0",
      "model_name": "LayoutModel",
      "state": {}
     },
     "9ff83785900d4c19ba890ce238562093": {
      "model_module": "@jupyter-widgets/controls",
      "model_module_version": "2.0.0",
      "model_name": "ProgressStyleModel",
      "state": {
       "description_width": ""
      }
     },
     "a0a923ca84894de3b49071e36a5a556c": {
      "model_module": "@jupyter-widgets/controls",
      "model_module_version": "2.0.0",
      "model_name": "HBoxModel",
      "state": {
       "children": [
        "IPY_MODEL_a2ea0b0308ab438aa593a52bf31e4a15",
        "IPY_MODEL_cad77395b2e348be8685b21737d18f1c",
        "IPY_MODEL_c7525a52c6d04c4195ae1e75846433a2"
       ],
       "layout": "IPY_MODEL_21e22204ff36479daefc03e79132b2d6"
      }
     },
     "a1216d619af34a729953b85b627fd702": {
      "model_module": "@jupyter-widgets/base",
      "model_module_version": "2.0.0",
      "model_name": "LayoutModel",
      "state": {}
     },
     "a2090c2863364b3d9315e066d1c19a78": {
      "model_module": "@jupyter-widgets/base",
      "model_module_version": "2.0.0",
      "model_name": "LayoutModel",
      "state": {}
     },
     "a2a1273679ce42d48c11ff5d0a8584e2": {
      "model_module": "@jupyter-widgets/controls",
      "model_module_version": "2.0.0",
      "model_name": "ProgressStyleModel",
      "state": {
       "description_width": ""
      }
     },
     "a2ea0b0308ab438aa593a52bf31e4a15": {
      "model_module": "@jupyter-widgets/controls",
      "model_module_version": "2.0.0",
      "model_name": "HTMLModel",
      "state": {
       "layout": "IPY_MODEL_6000abae1dac42a18c1a15075d63f15c",
       "style": "IPY_MODEL_ac1b8b0282c2407389907a08de778bd7",
       "value": "Render HTML: 100%"
      }
     },
     "a35c5c47367842fba8c786f13eb5a11d": {
      "model_module": "@jupyter-widgets/controls",
      "model_module_version": "2.0.0",
      "model_name": "ProgressStyleModel",
      "state": {
       "description_width": ""
      }
     },
     "a487ec1adf6245faa8a0c7f45ef0014a": {
      "model_module": "@jupyter-widgets/base",
      "model_module_version": "2.0.0",
      "model_name": "LayoutModel",
      "state": {}
     },
     "a6b8c681422841ff8752929b5184eedc": {
      "model_module": "@jupyter-widgets/controls",
      "model_module_version": "2.0.0",
      "model_name": "HTMLModel",
      "state": {
       "layout": "IPY_MODEL_a9e751628fe54be7a4bf44bc142cced5",
       "style": "IPY_MODEL_ab174a7fb9e244ef9ef70c2c25e747ea",
       "value": "1_Pooling/config.json: 100%"
      }
     },
     "a723649dc8194e9fb84ad165a61a5653": {
      "model_module": "@jupyter-widgets/base",
      "model_module_version": "2.0.0",
      "model_name": "LayoutModel",
      "state": {}
     },
     "a7e179e781594159820a4574f1bbcdf0": {
      "model_module": "@jupyter-widgets/base",
      "model_module_version": "2.0.0",
      "model_name": "LayoutModel",
      "state": {}
     },
     "a90dec62bd644bb9adb50943154c22fc": {
      "model_module": "@jupyter-widgets/base",
      "model_module_version": "2.0.0",
      "model_name": "LayoutModel",
      "state": {}
     },
     "a91e7aa6cc0c4cc4a084e29e1207fa7b": {
      "model_module": "@jupyter-widgets/controls",
      "model_module_version": "2.0.0",
      "model_name": "HTMLModel",
      "state": {
       "layout": "IPY_MODEL_7c61a51e13894400afb4d6e6104ed28c",
       "style": "IPY_MODEL_883540c648ec46e4b57597d0bfdb9f4a",
       "value": " 11/11 [00:01&lt;00:00,  7.52it/s, Completed]"
      }
     },
     "a9405966d8b94b9e96093ada165530a9": {
      "model_module": "@jupyter-widgets/base",
      "model_module_version": "2.0.0",
      "model_name": "LayoutModel",
      "state": {}
     },
     "a9696b5b08d344b1a1be67f32507a2f6": {
      "model_module": "@jupyter-widgets/controls",
      "model_module_version": "2.0.0",
      "model_name": "ProgressStyleModel",
      "state": {
       "description_width": ""
      }
     },
     "a9e751628fe54be7a4bf44bc142cced5": {
      "model_module": "@jupyter-widgets/base",
      "model_module_version": "2.0.0",
      "model_name": "LayoutModel",
      "state": {}
     },
     "aad6244bafc44bfe846e816f564f8dae": {
      "model_module": "@jupyter-widgets/controls",
      "model_module_version": "2.0.0",
      "model_name": "ProgressStyleModel",
      "state": {
       "description_width": ""
      }
     },
     "ab174a7fb9e244ef9ef70c2c25e747ea": {
      "model_module": "@jupyter-widgets/controls",
      "model_module_version": "2.0.0",
      "model_name": "HTMLStyleModel",
      "state": {
       "description_width": "",
       "font_size": null,
       "text_color": null
      }
     },
     "ab3b2e55d95040e588e799a9beec354a": {
      "model_module": "@jupyter-widgets/controls",
      "model_module_version": "2.0.0",
      "model_name": "HTMLModel",
      "state": {
       "layout": "IPY_MODEL_ea4f4f064c6b4f228424390cd0dd81be",
       "style": "IPY_MODEL_941ccd642d20451089b8440ed95fcbaa",
       "value": " 1/1 [00:05&lt;00:00,  5.40s/it]"
      }
     },
     "ac1b8b0282c2407389907a08de778bd7": {
      "model_module": "@jupyter-widgets/controls",
      "model_module_version": "2.0.0",
      "model_name": "HTMLStyleModel",
      "state": {
       "description_width": "",
       "font_size": null,
       "text_color": null
      }
     },
     "ac5c8956be7e48a89c9368a4ad8e42d4": {
      "model_module": "@jupyter-widgets/controls",
      "model_module_version": "2.0.0",
      "model_name": "HTMLModel",
      "state": {
       "layout": "IPY_MODEL_ce36eb79c59e4512a61eb1be5faeecac",
       "style": "IPY_MODEL_75952228e3d64c2cb1b491099c10eaad",
       "value": "Generate report structure: 100%"
      }
     },
     "ad12cd3841a041b89e20b204cc74bcb9": {
      "model_module": "@jupyter-widgets/base",
      "model_module_version": "2.0.0",
      "model_name": "LayoutModel",
      "state": {}
     },
     "b17fc9d7aff64631b3545f680f99c5d1": {
      "model_module": "@jupyter-widgets/controls",
      "model_module_version": "2.0.0",
      "model_name": "HTMLModel",
      "state": {
       "layout": "IPY_MODEL_0fd8ee8e9bd744cc844e38145fd16397",
       "style": "IPY_MODEL_82027220ca4147be9939f0ed08c225c6",
       "value": "Render HTML: 100%"
      }
     },
     "b42205cef9c54b24acc795fb649ef21c": {
      "model_module": "@jupyter-widgets/controls",
      "model_module_version": "2.0.0",
      "model_name": "ProgressStyleModel",
      "state": {
       "description_width": ""
      }
     },
     "b556ddcf8d6b482781525a61c78f6710": {
      "model_module": "@jupyter-widgets/base",
      "model_module_version": "2.0.0",
      "model_name": "LayoutModel",
      "state": {}
     },
     "b84a81d3c4b8460dbedd5833e374442f": {
      "model_module": "@jupyter-widgets/controls",
      "model_module_version": "2.0.0",
      "model_name": "HTMLModel",
      "state": {
       "layout": "IPY_MODEL_ccc055149b484e4292c711b9e7fb3b21",
       "style": "IPY_MODEL_4663ce88c500433d9a66e42703b7edd9",
       "value": " 1/1 [00:00&lt;00:00,  3.78it/s]"
      }
     },
     "b9a4716a775b4f58a8725834acead670": {
      "model_module": "@jupyter-widgets/controls",
      "model_module_version": "2.0.0",
      "model_name": "HTMLStyleModel",
      "state": {
       "description_width": "",
       "font_size": null,
       "text_color": null
      }
     },
     "b9ec8ff5ffb14aefb813dd410c182e5d": {
      "model_module": "@jupyter-widgets/controls",
      "model_module_version": "2.0.0",
      "model_name": "HBoxModel",
      "state": {
       "children": [
        "IPY_MODEL_066c22c72a0545fd8b3b7bec13af4d8b",
        "IPY_MODEL_7260ff4958c940acb4714323796e08c3",
        "IPY_MODEL_5fb699afac73424cab92c9dac35ba361"
       ],
       "layout": "IPY_MODEL_9b61adbe17b5499882f9d89676372d32"
      }
     },
     "baec1ad6473a429bad8d0cb45bb5643f": {
      "model_module": "@jupyter-widgets/controls",
      "model_module_version": "2.0.0",
      "model_name": "ProgressStyleModel",
      "state": {
       "description_width": ""
      }
     },
     "bb53b22a30174673abe7a1878cae4b0a": {
      "model_module": "@jupyter-widgets/controls",
      "model_module_version": "2.0.0",
      "model_name": "ProgressStyleModel",
      "state": {
       "description_width": ""
      }
     },
     "bd952a490aa64f49957d8a7311d80bde": {
      "model_module": "@jupyter-widgets/base",
      "model_module_version": "2.0.0",
      "model_name": "LayoutModel",
      "state": {}
     },
     "bf1c3d4641f34e82a35aa3cb7c595694": {
      "model_module": "@jupyter-widgets/controls",
      "model_module_version": "2.0.0",
      "model_name": "FloatProgressModel",
      "state": {
       "bar_style": "success",
       "layout": "IPY_MODEL_a9405966d8b94b9e96093ada165530a9",
       "max": 1,
       "style": "IPY_MODEL_a2a1273679ce42d48c11ff5d0a8584e2",
       "value": 1
      }
     },
     "c396dfff60be4692a52bca25ba7d0a05": {
      "model_module": "@jupyter-widgets/controls",
      "model_module_version": "2.0.0",
      "model_name": "ProgressStyleModel",
      "state": {
       "description_width": ""
      }
     },
     "c40ac716ce7f42dc933c4b253d9fb395": {
      "model_module": "@jupyter-widgets/base",
      "model_module_version": "2.0.0",
      "model_name": "LayoutModel",
      "state": {}
     },
     "c7525a52c6d04c4195ae1e75846433a2": {
      "model_module": "@jupyter-widgets/controls",
      "model_module_version": "2.0.0",
      "model_name": "HTMLModel",
      "state": {
       "layout": "IPY_MODEL_3b8d71f37ce84b7889c7caad92b0be2d",
       "style": "IPY_MODEL_e9105ee0714f4cab8b159f7512158e49",
       "value": " 1/1 [00:01&lt;00:00,  1.19s/it]"
      }
     },
     "c9a4f6dd76414bd1aedabe21c1190732": {
      "model_module": "@jupyter-widgets/controls",
      "model_module_version": "2.0.0",
      "model_name": "FloatProgressModel",
      "state": {
       "bar_style": "success",
       "layout": "IPY_MODEL_6665b5bf50ab4164b165b7eb8571fb9b",
       "max": 5,
       "style": "IPY_MODEL_a35c5c47367842fba8c786f13eb5a11d",
       "value": 5
      }
     },
     "ca4d38bc5fe941669ad871f2437eea28": {
      "model_module": "@jupyter-widgets/controls",
      "model_module_version": "2.0.0",
      "model_name": "HTMLModel",
      "state": {
       "layout": "IPY_MODEL_ddc8ec4a5d894f0fae588b07f2a6cef6",
       "style": "IPY_MODEL_46784251d1f64e1ca6566136f89fd124",
       "value": " 1/1 [00:02&lt;00:00,  2.56s/it]"
      }
     },
     "cad77395b2e348be8685b21737d18f1c": {
      "model_module": "@jupyter-widgets/controls",
      "model_module_version": "2.0.0",
      "model_name": "FloatProgressModel",
      "state": {
       "bar_style": "success",
       "layout": "IPY_MODEL_a487ec1adf6245faa8a0c7f45ef0014a",
       "max": 1,
       "style": "IPY_MODEL_de54968ec6444024b793a0549b114f96",
       "value": 1
      }
     },
     "cb7e8b6cea82408b9e1f14122691c1fc": {
      "model_module": "@jupyter-widgets/base",
      "model_module_version": "2.0.0",
      "model_name": "LayoutModel",
      "state": {}
     },
     "cc3baf2e905247b7b232c3b97b960c61": {
      "model_module": "@jupyter-widgets/controls",
      "model_module_version": "2.0.0",
      "model_name": "HTMLModel",
      "state": {
       "layout": "IPY_MODEL_a90dec62bd644bb9adb50943154c22fc",
       "style": "IPY_MODEL_8c932792b6d849959898693ade31af8c",
       "value": " 1/1 [00:00&lt;00:00, 47.33it/s]"
      }
     },
     "cc6de8a831fb46aaa3f808032baf3c20": {
      "model_module": "@jupyter-widgets/base",
      "model_module_version": "2.0.0",
      "model_name": "LayoutModel",
      "state": {}
     },
     "ccc055149b484e4292c711b9e7fb3b21": {
      "model_module": "@jupyter-widgets/base",
      "model_module_version": "2.0.0",
      "model_name": "LayoutModel",
      "state": {}
     },
     "ce36eb79c59e4512a61eb1be5faeecac": {
      "model_module": "@jupyter-widgets/base",
      "model_module_version": "2.0.0",
      "model_name": "LayoutModel",
      "state": {}
     },
     "cfcc8f4971a04db999c6b5305f69a11f": {
      "model_module": "@jupyter-widgets/base",
      "model_module_version": "2.0.0",
      "model_name": "LayoutModel",
      "state": {}
     },
     "d04b1c4660cc42f9a1510cb96b3a75ce": {
      "model_module": "@jupyter-widgets/controls",
      "model_module_version": "2.0.0",
      "model_name": "HTMLStyleModel",
      "state": {
       "description_width": "",
       "font_size": null,
       "text_color": null
      }
     },
     "d345270dc2474d2189df9ff01a89d88a": {
      "model_module": "@jupyter-widgets/controls",
      "model_module_version": "2.0.0",
      "model_name": "ProgressStyleModel",
      "state": {
       "description_width": ""
      }
     },
     "d3b0b1d06a754887a6c9f4117125d8b9": {
      "model_module": "@jupyter-widgets/base",
      "model_module_version": "2.0.0",
      "model_name": "LayoutModel",
      "state": {}
     },
     "d40c54f5330247c58e0ff026230a177c": {
      "model_module": "@jupyter-widgets/base",
      "model_module_version": "2.0.0",
      "model_name": "LayoutModel",
      "state": {}
     },
     "d5017af480fb41af90f758db0ab5bb2a": {
      "model_module": "@jupyter-widgets/base",
      "model_module_version": "2.0.0",
      "model_name": "LayoutModel",
      "state": {}
     },
     "d5bb1dd5d7bd4c4ab3487d8ac9fe8c64": {
      "model_module": "@jupyter-widgets/base",
      "model_module_version": "2.0.0",
      "model_name": "LayoutModel",
      "state": {}
     },
     "d7462b42b3e248f09331595e6fe5ac8e": {
      "model_module": "@jupyter-widgets/controls",
      "model_module_version": "2.0.0",
      "model_name": "HTMLModel",
      "state": {
       "layout": "IPY_MODEL_2dac8b264ca645d3849f3dd2bd59b819",
       "style": "IPY_MODEL_16489c6c25e34fc390110a2125a5d117",
       "value": "Export report to file: 100%"
      }
     },
     "d8059e12354d4d858d9b32b49fa9cbfe": {
      "model_module": "@jupyter-widgets/controls",
      "model_module_version": "2.0.0",
      "model_name": "HTMLModel",
      "state": {
       "layout": "IPY_MODEL_a2090c2863364b3d9315e066d1c19a78",
       "style": "IPY_MODEL_2d2121298cbd4c5fb05dde29be19a6c9",
       "value": " 28/28 [00:02&lt;00:00,  6.51it/s, Completed]"
      }
     },
     "d858de2134c348bfbe2c8150c862c85c": {
      "model_module": "@jupyter-widgets/controls",
      "model_module_version": "2.0.0",
      "model_name": "HTMLModel",
      "state": {
       "layout": "IPY_MODEL_de45da74533f46afa33dc2177dbe2b2c",
       "style": "IPY_MODEL_796b10c3082b4d279258e6162dfd50f4",
       "value": "Generate report structure: 100%"
      }
     },
     "d8bd7bb6c06544adbb7ee6dca92d01e9": {
      "model_module": "@jupyter-widgets/base",
      "model_module_version": "2.0.0",
      "model_name": "LayoutModel",
      "state": {}
     },
     "d8c28e4a1a784d09859ce5944c2277e0": {
      "model_module": "@jupyter-widgets/base",
      "model_module_version": "2.0.0",
      "model_name": "LayoutModel",
      "state": {}
     },
     "d8d9355a32634ad387a10276cf2cdb97": {
      "model_module": "@jupyter-widgets/controls",
      "model_module_version": "2.0.0",
      "model_name": "FloatProgressModel",
      "state": {
       "bar_style": "success",
       "layout": "IPY_MODEL_8b307eac6d514ba7a3551de9a8bb9e63",
       "max": 1,
       "style": "IPY_MODEL_955830dfaeec48fa97cd6fe31fe090e2",
       "value": 1
      }
     },
     "da938f15ac6147a2b8281118397dc900": {
      "model_module": "@jupyter-widgets/controls",
      "model_module_version": "2.0.0",
      "model_name": "HTMLStyleModel",
      "state": {
       "description_width": "",
       "font_size": null,
       "text_color": null
      }
     },
     "db7ae2b403554ae6b44b00338f3bcead": {
      "model_module": "@jupyter-widgets/base",
      "model_module_version": "2.0.0",
      "model_name": "LayoutModel",
      "state": {}
     },
     "dcdd99ce52894fbe9771e18ea4504906": {
      "model_module": "@jupyter-widgets/base",
      "model_module_version": "2.0.0",
      "model_name": "LayoutModel",
      "state": {}
     },
     "dd22bebbde16440e90ee7e1fa8dece28": {
      "model_module": "@jupyter-widgets/controls",
      "model_module_version": "2.0.0",
      "model_name": "HTMLModel",
      "state": {
       "layout": "IPY_MODEL_568660cef5f5499e903ad5b9a483653b",
       "style": "IPY_MODEL_800729098f1543c3ae8f81d3e1f592c7",
       "value": "Export report to file: 100%"
      }
     },
     "ddc8ec4a5d894f0fae588b07f2a6cef6": {
      "model_module": "@jupyter-widgets/base",
      "model_module_version": "2.0.0",
      "model_name": "LayoutModel",
      "state": {}
     },
     "de063823696049b08e4d5962c22b589e": {
      "model_module": "@jupyter-widgets/controls",
      "model_module_version": "2.0.0",
      "model_name": "HTMLModel",
      "state": {
       "layout": "IPY_MODEL_e518c20d20344def8cd22f452644a824",
       "style": "IPY_MODEL_27040438f5a943279cb00d49318bcbce",
       "value": " 112/112 [00:00&lt;00:00, 4.44kB/s]"
      }
     },
     "de45da74533f46afa33dc2177dbe2b2c": {
      "model_module": "@jupyter-widgets/base",
      "model_module_version": "2.0.0",
      "model_name": "LayoutModel",
      "state": {}
     },
     "de54968ec6444024b793a0549b114f96": {
      "model_module": "@jupyter-widgets/controls",
      "model_module_version": "2.0.0",
      "model_name": "ProgressStyleModel",
      "state": {
       "description_width": ""
      }
     },
     "dfa2b00f8c4a42d2b92bb364fe50b1fc": {
      "model_module": "@jupyter-widgets/controls",
      "model_module_version": "2.0.0",
      "model_name": "HTMLStyleModel",
      "state": {
       "description_width": "",
       "font_size": null,
       "text_color": null
      }
     },
     "dfc6a384f7c540c4978f41e919e28af6": {
      "model_module": "@jupyter-widgets/controls",
      "model_module_version": "2.0.0",
      "model_name": "HBoxModel",
      "state": {
       "children": [
        "IPY_MODEL_12885428b1fb48e5bbda7558e5d6938f",
        "IPY_MODEL_6108e1f1a737489b838a285f86421fa4",
        "IPY_MODEL_0319540247eb47e1bc51b6eae91d9c83"
       ],
       "layout": "IPY_MODEL_853f594c9fb74ac3977eb21fceb372b5"
      }
     },
     "e01deb9faec04cd0a1d699561a96523e": {
      "model_module": "@jupyter-widgets/controls",
      "model_module_version": "2.0.0",
      "model_name": "HTMLModel",
      "state": {
       "layout": "IPY_MODEL_1a569f13f17d4edcb5b69694e0f7977f",
       "style": "IPY_MODEL_6ea8476458584b60a454432b1b770501",
       "value": "Summarize dataset: 100%"
      }
     },
     "e0ac3ad18d3943ca853084aefa1c94ee": {
      "model_module": "@jupyter-widgets/base",
      "model_module_version": "2.0.0",
      "model_name": "LayoutModel",
      "state": {}
     },
     "e2a7c6158ded40589fa049d23ef42350": {
      "model_module": "@jupyter-widgets/base",
      "model_module_version": "2.0.0",
      "model_name": "LayoutModel",
      "state": {}
     },
     "e3dae5df89df49a5a818067a9af247f1": {
      "model_module": "@jupyter-widgets/controls",
      "model_module_version": "2.0.0",
      "model_name": "HTMLStyleModel",
      "state": {
       "description_width": "",
       "font_size": null,
       "text_color": null
      }
     },
     "e518c20d20344def8cd22f452644a824": {
      "model_module": "@jupyter-widgets/base",
      "model_module_version": "2.0.0",
      "model_name": "LayoutModel",
      "state": {}
     },
     "e5621855e30e4c648c4a3cda6a1531c0": {
      "model_module": "@jupyter-widgets/controls",
      "model_module_version": "2.0.0",
      "model_name": "HTMLModel",
      "state": {
       "layout": "IPY_MODEL_0b3ddcbdd1b74c1fb3a06022124d8cb3",
       "style": "IPY_MODEL_d04b1c4660cc42f9a1510cb96b3a75ce",
       "value": " 1/1 [00:00&lt;00:00, 46.92it/s]"
      }
     },
     "e8694ade0a654939b40dd6334f113bef": {
      "model_module": "@jupyter-widgets/controls",
      "model_module_version": "2.0.0",
      "model_name": "HTMLStyleModel",
      "state": {
       "description_width": "",
       "font_size": null,
       "text_color": null
      }
     },
     "e9105ee0714f4cab8b159f7512158e49": {
      "model_module": "@jupyter-widgets/controls",
      "model_module_version": "2.0.0",
      "model_name": "HTMLStyleModel",
      "state": {
       "description_width": "",
       "font_size": null,
       "text_color": null
      }
     },
     "ea29bfa5c917444587f5ab643d8c023e": {
      "model_module": "@jupyter-widgets/controls",
      "model_module_version": "2.0.0",
      "model_name": "HTMLStyleModel",
      "state": {
       "description_width": "",
       "font_size": null,
       "text_color": null
      }
     },
     "ea4f4f064c6b4f228424390cd0dd81be": {
      "model_module": "@jupyter-widgets/base",
      "model_module_version": "2.0.0",
      "model_name": "LayoutModel",
      "state": {}
     },
     "ebe669b961224a559e5a43adce2d3669": {
      "model_module": "@jupyter-widgets/controls",
      "model_module_version": "2.0.0",
      "model_name": "HTMLStyleModel",
      "state": {
       "description_width": "",
       "font_size": null,
       "text_color": null
      }
     },
     "ec75b2847c2e4e4b8c388788219ac642": {
      "model_module": "@jupyter-widgets/controls",
      "model_module_version": "2.0.0",
      "model_name": "HBoxModel",
      "state": {
       "children": [
        "IPY_MODEL_a6b8c681422841ff8752929b5184eedc",
        "IPY_MODEL_955ac323ea994096bff93ed77452de06",
        "IPY_MODEL_7e989315c8f84f04942992f8539e4057"
       ],
       "layout": "IPY_MODEL_02ab2cc8c4a54209b688335da267eab6"
      }
     },
     "ed79a27e0c1f46e0a5ce22416a80ebe0": {
      "model_module": "@jupyter-widgets/controls",
      "model_module_version": "2.0.0",
      "model_name": "HTMLModel",
      "state": {
       "layout": "IPY_MODEL_46374ba80a2d41f6bdab871c7d2e2587",
       "style": "IPY_MODEL_dfa2b00f8c4a42d2b92bb364fe50b1fc",
       "value": "tokenizer_config.json: 100%"
      }
     },
     "ee2027ac4ea04431b7664b20becbd3e8": {
      "model_module": "@jupyter-widgets/controls",
      "model_module_version": "2.0.0",
      "model_name": "HTMLModel",
      "state": {
       "layout": "IPY_MODEL_a723649dc8194e9fb84ad165a61a5653",
       "style": "IPY_MODEL_68c243af417b42009b9e21dffaab6b3e",
       "value": "Export report to file: 100%"
      }
     },
     "ee3d613ce4034758953c1012539fadcf": {
      "model_module": "@jupyter-widgets/controls",
      "model_module_version": "2.0.0",
      "model_name": "HTMLModel",
      "state": {
       "layout": "IPY_MODEL_3fa42c14f7c94f0c86cb357d0aeda6c0",
       "style": "IPY_MODEL_814eacbd28b74505afc840fefd1443a5",
       "value": " 466k/466k [00:00&lt;00:00, 972kB/s]"
      }
     },
     "ee572574d9894607a3af317647b298ee": {
      "model_module": "@jupyter-widgets/controls",
      "model_module_version": "2.0.0",
      "model_name": "HTMLModel",
      "state": {
       "layout": "IPY_MODEL_27ad471e487e4c2b8fa7513edd8aca21",
       "style": "IPY_MODEL_01faa8654fea4bd7ab92abd659c19f9b",
       "value": "Summarize dataset: 100%"
      }
     },
     "ee8bbf6da357458db6efc207dfaf5049": {
      "model_module": "@jupyter-widgets/controls",
      "model_module_version": "2.0.0",
      "model_name": "HBoxModel",
      "state": {
       "children": [
        "IPY_MODEL_64cc7eae96074eb0b302ee6446f33442",
        "IPY_MODEL_41463dd1a0d34476b96391c136799aee",
        "IPY_MODEL_2f78c64026e54cc89f44a69fbe3cd33c"
       ],
       "layout": "IPY_MODEL_cb7e8b6cea82408b9e1f14122691c1fc"
      }
     },
     "eea38ccb329145a59e0b9df6458f9710": {
      "model_module": "@jupyter-widgets/base",
      "model_module_version": "2.0.0",
      "model_name": "LayoutModel",
      "state": {}
     },
     "f1b2628fdf814c74871f4c174eda55d6": {
      "model_module": "@jupyter-widgets/controls",
      "model_module_version": "2.0.0",
      "model_name": "HTMLModel",
      "state": {
       "layout": "IPY_MODEL_cc6de8a831fb46aaa3f808032baf3c20",
       "style": "IPY_MODEL_7b5f1b56503240bcbae2986986f249e7",
       "value": "tokenizer.json: 100%"
      }
     },
     "f2e5aec433f4427bad28c0f7eca12927": {
      "model_module": "@jupyter-widgets/base",
      "model_module_version": "2.0.0",
      "model_name": "LayoutModel",
      "state": {}
     },
     "f31665d0cee34f50af73e7a3d3869fce": {
      "model_module": "@jupyter-widgets/controls",
      "model_module_version": "2.0.0",
      "model_name": "ProgressStyleModel",
      "state": {
       "description_width": ""
      }
     },
     "f4f2a8e296f0457189ec3a584e659d8a": {
      "model_module": "@jupyter-widgets/controls",
      "model_module_version": "2.0.0",
      "model_name": "FloatProgressModel",
      "state": {
       "bar_style": "success",
       "layout": "IPY_MODEL_71177b4823e94377bc0476d73458d3dc",
       "max": 116,
       "style": "IPY_MODEL_aad6244bafc44bfe846e816f564f8dae",
       "value": 116
      }
     },
     "f5a67f0e1498490bb51283abc1122c95": {
      "model_module": "@jupyter-widgets/controls",
      "model_module_version": "2.0.0",
      "model_name": "HBoxModel",
      "state": {
       "children": [
        "IPY_MODEL_ee572574d9894607a3af317647b298ee",
        "IPY_MODEL_c9a4f6dd76414bd1aedabe21c1190732",
        "IPY_MODEL_a91e7aa6cc0c4cc4a084e29e1207fa7b"
       ],
       "layout": "IPY_MODEL_2f5911132fcd4408b2e62ca3352abb61"
      }
     },
     "f5b3f352e6d4443dbc48b76b0f7870ad": {
      "model_module": "@jupyter-widgets/controls",
      "model_module_version": "2.0.0",
      "model_name": "ProgressStyleModel",
      "state": {
       "description_width": ""
      }
     },
     "f6052a78dc8c447482257fa4504acdf2": {
      "model_module": "@jupyter-widgets/controls",
      "model_module_version": "2.0.0",
      "model_name": "HTMLStyleModel",
      "state": {
       "description_width": "",
       "font_size": null,
       "text_color": null
      }
     },
     "f8afaf65094a47018a1ab942ccb0d5e2": {
      "model_module": "@jupyter-widgets/controls",
      "model_module_version": "2.0.0",
      "model_name": "ProgressStyleModel",
      "state": {
       "description_width": ""
      }
     },
     "fb88e8dd75ce4807bbafd3b5cc4d13a8": {
      "model_module": "@jupyter-widgets/controls",
      "model_module_version": "2.0.0",
      "model_name": "ProgressStyleModel",
      "state": {
       "description_width": ""
      }
     },
     "fc5127644e684b109932c2edd9feda43": {
      "model_module": "@jupyter-widgets/controls",
      "model_module_version": "2.0.0",
      "model_name": "HBoxModel",
      "state": {
       "children": [
        "IPY_MODEL_93483bd6678148bca57d37be420f1849",
        "IPY_MODEL_94777597eb1f4ff7befa2a8cbf45d469",
        "IPY_MODEL_0fc99609666042f28f22dc3a5ee77a79"
       ],
       "layout": "IPY_MODEL_d5017af480fb41af90f758db0ab5bb2a"
      }
     },
     "fcce37bdddb84877bd94e21ec14a57bf": {
      "model_module": "@jupyter-widgets/base",
      "model_module_version": "2.0.0",
      "model_name": "LayoutModel",
      "state": {}
     },
     "fde8f5d451944beda2b8296bc104fa17": {
      "model_module": "@jupyter-widgets/base",
      "model_module_version": "2.0.0",
      "model_name": "LayoutModel",
      "state": {}
     }
    },
    "version_major": 2,
    "version_minor": 0
   }
  }
 },
 "nbformat": 4,
 "nbformat_minor": 5
}
